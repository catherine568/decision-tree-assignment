{
  "nbformat": 4,
  "nbformat_minor": 0,
  "metadata": {
    "colab": {
      "provenance": []
    },
    "kernelspec": {
      "name": "python3",
      "display_name": "Python 3"
    },
    "language_info": {
      "name": "python"
    }
  },
  "cells": [
    {
      "cell_type": "code",
      "execution_count": null,
      "metadata": {
        "id": "__AC7BU_9k98"
      },
      "outputs": [],
      "source": []
    },
    {
      "cell_type": "markdown",
      "source": [
        "THEORY QUESTIONS:\n",
        "\n",
        "\n",
        "1.What is a Decision Tree, and how does it work?\n",
        " - A decision tree is a supervised learning algorithm used for both classification and regression tasks. It's a tree-like structure that makes predictions by recursively splitting data based on feature values, ultimately leading to a final outcome at a leaf node.\n",
        "\n",
        "2.What are impurity measures in Decision Trees?\n",
        " -  Impurity measures in Decision Trees quantify the homogeneity of a set of samples at a node. The goal of the decision tree algorithm is to split the data at each node in a way that reduces impurity, leading to more homogeneous child nodes. Common impurity measures include:\n",
        "\n",
        "Gini Impurity: Measures the probability of misclassifying a randomly chosen element in the dataset if it were randomly labeled according to the distribution of labels in the subset. A lower Gini impurity indicates a more homogeneous node.\n",
        "Entropy: Measures the randomness or disorder in a set of samples. A lower entropy indicates less randomness and a more homogeneous node.\n",
        "Classification Error: The simplest impurity measure, it represents the proportion of misclassified samples at a node.\n",
        "The algorithm chooses the split that results in the greatest reduction in impurity.\n",
        "\n",
        "\n",
        "3.What is the mathematical formula for Gini Impurity?\n",
        " - The mathematical formula for Gini Impurity is:\n",
        "\n",
        "$$Gini = 1 - \\sum_{i=1}^{c} p_i^2$$$$Gini = 1 - \\sum_{i=1}^{c} p_i^2$$\n",
        "\n",
        "Where:\n",
        "\n",
        "$Gini$$Gini$ is the Gini impurity for a node.\n",
        "$c$$c$ is the number of classes.\n",
        "$p_i$$p_i$ is the proportion of samples belonging to class $i$$i$ at that node.\n",
        "The Gini impurity ranges from 0 to 1, where 0 represents perfect purity (all samples belong to the same class) and 1 represents maximum impurity (samples are equally distributed across all classes).\n",
        "\n",
        "\n",
        "4.What is the mathematical formula for Entropy?\n",
        " - The mathematical formula for Entropy is:\n",
        "\n",
        "$$Entropy = -\\sum_{i=1}^{c} p_i \\log_2(p_i)$$$$Entropy = -\\sum_{i=1}^{c} p_i \\log_2(p_i)$$\n",
        "\n",
        "Where:\n",
        "\n",
        "$Entropy$$Entropy$ is the Entropy for a node.\n",
        "$c$$c$ is the number of classes.\n",
        "$p_i$$p_i$ is the proportion of samples belonging to class $i$$i$ at that node.\n",
        "Entropy ranges from 0 to 1 (or higher, depending on the base of the logarithm), where 0 represents perfect purity and higher values indicate greater impurity.\n",
        "\n",
        "\n",
        "\n",
        "5.What is Information Gain, and how is it used in Decision Trees?\n",
        " - Information Gain is a measure used in Decision Trees to determine the effectiveness of a split. It quantifies the reduction in entropy or impurity that results from splitting a dataset based on an attribute. The formula for Information Gain is:\n",
        "\n",
        "$$Information\\ Gain(S, A) = Entropy(S) - \\sum_{v \\in Values(A)} \\frac{|S_v|}{|S|} Entropy(S_v)$$$$Information\\ Gain(S, A) = Entropy(S) - \\sum_{v \\in Values(A)} \\frac{|S_v|}{|S|} Entropy(S_v)$$\n",
        "\n",
        "Where:\n",
        "\n",
        "$Information\\ Gain(S, A)$$Information\\ Gain(S, A)$ is the information gain of splitting dataset $S$$S$ based on attribute $A$$A$.\n",
        "$Entropy(S)$$Entropy(S)$ is the entropy of dataset $S$$S$.\n",
        "$Values(A)$$Values(A)$ is the set of possible values for attribute $A$$A$.\n",
        "$S_v$$S_v$ is the subset of $S$$S$ where attribute $A$$A$ has value $v$$v$.\n",
        "$|S_v|$$|S_v|$ is the number of samples in $S_v$$S_v$.\n",
        "$|S|$$|S|$ is the number of samples in $S$$S$.\n",
        "In Decision Trees, the algorithm calculates the information gain for each potential split and selects the split that results in the highest information gain. This process is repeated recursively until a stopping criterion is met (e.g., all samples in a node belong to the same class, or a maximum depth is reached). By maximizing information gain at each step, the decision tree effectively reduces uncertainty and makes accurate predictions.\n",
        "\n",
        "\n",
        "6.What is the difference between Gini Impurity and Entropy?\n",
        " - Both Gini Impurity and Entropy are measures used in Decision Trees to evaluate the homogeneity of a node and determine the best split. Here's a breakdown of their differences:\n",
        "\n",
        "Gini Impurity:\n",
        "\n",
        "Focus: Measures the probability of misclassifying a randomly chosen sample.\n",
        "Calculation: Based on the proportion of samples belonging to each class.\n",
        "Range: 0 to 1, where 0 is pure and 1 is maximally impure (for a binary classification, 0.5).\n",
        "Computational Cost: Generally computationally less expensive than entropy as it doesn't involve logarithms.\n",
        "Bias: Tends to isolate the most frequent class in its own branch of the tree.\n",
        "Entropy:\n",
        "\n",
        "Focus: Measures the randomness or disorder in the data.\n",
        "Calculation: Based on the logarithm of the proportion of samples belonging to each class.\n",
        "Range: 0 to potentially higher values (depending on the base of the logarithm and the number of classes), where 0 is pure.\n",
        "Computational Cost: More computationally expensive due to the logarithm calculation.\n",
        "Bias: Tends to produce more balanced trees.\n",
        "Key Differences Summarized:\n",
        "\n",
        "Feature\tGini Impurity\tEntropy\n",
        "Measurement\tProbability of misclassification\tDisorder or randomness\n",
        "Calculation\tProportions of classes\tLogarithm of proportions of classes\n",
        "Computational\tLess expensive\tMore expensive\n",
        "Tree Structure\tTends to isolate dominant class\tTends to produce more balanced trees\n",
        "In practice, both measures often yield similar results in terms of tree structure and performance. The choice between them is often a matter of computational efficiency or preference.\n",
        "\n",
        "\n",
        "7.What is the mathematical explanation behind Decision Trees?\n",
        " - The mathematical explanation behind Decision Trees primarily revolves around the concepts of impurity measures, information gain, and recursive partitioning. Here's a breakdown:\n",
        "\n",
        "Impurity Measures (Gini Impurity or Entropy): As we've discussed, these formulas quantify the homogeneity of a set of samples at a node. The goal is to minimize this impurity after splitting the data.\n",
        "\n",
        "Gini Impurity: $Gini = 1 - \\sum_{i=1}^{c} p_i^2$$Gini = 1 - \\sum_{i=1}^{c} p_i^2$\n",
        "Entropy: $Entropy = -\\sum_{i=1}^{c} p_i \\log_2(p_i)$$Entropy = -\\sum_{i=1}^{c} p_i \\log_2(p_i)$\n",
        "Information Gain: This measure determines the effectiveness of a split by quantifying the reduction in impurity (either Gini or Entropy) achieved by splitting the data based on a particular attribute. The split that maximizes Information Gain is chosen at each node.\n",
        "\n",
        "$$Information\\ Gain(S, A) = Entropy(S) - \\sum_{v \\in Values(A)} \\frac{|S_v|}{|S|} Entropy(S_v)$$$$Information\\ Gain(S, A) = Entropy(S) - \\sum_{v \\in Values(A)} \\frac{|S_v|}{|S|} Entropy(S_v)$$\n",
        "(A similar formula applies when using Gini Impurity, replacing Entropy with Gini).\n",
        "Recursive Partitioning: The process of building a Decision Tree is recursive. Starting with the root node (the entire dataset), the algorithm calculates the Information Gain for splitting on each attribute. The attribute that yields the highest Information Gain is chosen as the splitting criterion for that node. The dataset is then partitioned into subsets based on the values of the chosen attribute, creating child nodes. This process is repeated for each child node until a stopping criterion is met.\n",
        "\n",
        "Stopping Criteria: This could be when a node is pure (all samples belong to the same class), when a maximum tree depth is reached, or when the number of samples in a node falls below a certain threshold.\n",
        "In essence, the Decision Tree algorithm uses these mathematical concepts to greedily search for the optimal splits at each node, aiming to create a tree structure that effectively separates the different classes or predicts the target variable with high accuracy. The mathematical formulas provide the quantitative basis for making these splitting decisions.\n",
        "\n",
        "\n",
        "8.What is Pre-Pruning in Decision Trees?\n",
        " - Pre-pruning is a technique used in Decision Trees to stop the tree building process early, before it has fully grown and potentially overfit the training data. Instead of growing the tree to its maximum possible depth and then pruning it back (post-pruning), pre-pruning sets conditions or criteria for stopping the splitting of a node.\n",
        "\n",
        "Common pre-pruning criteria include:\n",
        "\n",
        "Maximum Depth: Limiting the maximum depth of the tree.\n",
        "Minimum Samples Split: Requiring a minimum number of samples in a node for it to be considered for splitting.\n",
        "Minimum Samples Leaf: Requiring a minimum number of samples in a leaf node.\n",
        "Maximum Leaf Nodes: Limiting the total number of leaf nodes in the tree.\n",
        "Impurity Threshold: Stopping the split if the impurity of a node is below a certain threshold.\n",
        "The goal of pre-pruning is to prevent the tree from becoming too complex and capturing noise in the training data, which can lead to poor generalization on unseen data. It can also help to reduce the computational cost of building the tree.\n",
        "\n",
        "\n",
        "9.What is Post-Pruning in Decision Trees?\n",
        " - Post-pruning is a technique used in Decision Trees where the tree is first grown to its full potential depth, allowing it to perfectly fit the training data (which may include capturing noise and overfitting). After the tree is fully grown, the post-pruning process begins, which involves removing or collapsing branches or nodes based on certain criteria.\n",
        "\n",
        "The goal of post-pruning is to simplify the tree and improve its ability to generalize to unseen data by reducing overfitting. Common post-pruning methods include:\n",
        "\n",
        "Reduced Error Pruning: This method uses a separate validation dataset to evaluate the performance of the tree. Nodes are removed if their removal does not increase the error on the validation set.\n",
        "Cost-Complexity Pruning (Weakest Link Pruning): This method considers a cost function that balances the tree's accuracy on the training data with its complexity (number of leaf nodes). It iteratively removes the \"weakest link\" (the split that, if removed, causes the smallest increase in the cost function) until the desired complexity is reached.\n",
        "In essence, post-pruning allows the tree to initially learn all the patterns in the training data, and then it systematically removes the parts that are likely due to noise or overfitting.\n",
        "\n",
        "\n",
        "10.What is the difference between Pre-Pruning and Post-Pruning?\n",
        " -  a summary of the differences between pre-pruning and post-pruning:\n",
        "\n",
        "Feature\tPre-Pruning\tPost-Pruning\n",
        "Timing\tStops tree growth early\tPrunes a fully grown tree\n",
        "Process\tSets stopping criteria during growth\tRemoves branches/nodes after growth\n",
        "Goal\tPrevent overfitting by stopping complexity increase early\tReduce overfitting by simplifying a complex tree\n",
        "Complexity\tResults in a simpler tree initially\tStarts with a complex tree and simplifies it\n",
        "Computational Cost\tGenerally lower\tGenerally higher (builds full tree first)\n",
        "Risk\tMay stop too early and miss important patterns\tMay overfit training data before pruning\n",
        "In essence, pre-pruning is like setting rules before building a house to limit its size, while post-pruning is like building a large house and then deciding which rooms or sections to remove to make it more manageable. Both aim to improve the generalization of the decision tree by preventing overfitting, but they do so at different stages of the tree-building process.\n",
        "\n",
        "\n",
        "11.What is a Decision Tree Regressor?\n",
        " - A Decision Tree Regressor is a supervised learning algorithm used for regression tasks. Similar to a Decision Tree Classifier, it builds a tree-like structure by recursively splitting the data based on feature values. However, instead of predicting a class label at the leaf nodes, a Decision Tree Regressor predicts a continuous numerical value.\n",
        "\n",
        "Here's how it works:\n",
        "\n",
        "Splitting: The tree is built by finding the best splits in the data at each node. For regression, the \"best\" split is typically determined by minimizing a measure of impurity or error, such as Mean Squared Error (MSE) or Mean Absolute Error (MAE). The algorithm calculates the impurity/error for different possible splits and chooses the one that results in the greatest reduction in impurity/error.\n",
        "Leaf Nodes: Once the tree is built, the leaf nodes represent the final predictions. For a given data point, it traverses the tree based on its feature values until it reaches a leaf node. The predicted value for that data point is the average (or sometimes median) of the target values of all the training samples that fall into that leaf node.\n",
        "In essence, a Decision Tree Regressor partitions the feature space into a set of rectangular regions, and for any new data point that falls into a particular region, it predicts the average target value of the training data in that region.\n",
        "\n",
        "\n",
        "12.What are the advantages and disadvantages of Decision Trees?\n",
        " - Decision Trees are popular algorithms due to their interpretability and versatility. Here are some of their advantages and disadvantages:\n",
        "\n",
        "Advantages:\n",
        "\n",
        "Easy to Understand and Interpret: Decision Trees visually represent decisions, making them easy for humans to follow and understand how predictions are made.\n",
        "Handle Both Numerical and Categorical Data: Decision Trees can work with both types of data without extensive preprocessing like scaling.\n",
        "Non-linear Relationships: They can capture non-linear relationships between features and the target variable.\n",
        "Require Little Data Preparation: Compared to some other algorithms, Decision Trees often require less data cleaning and preparation.\n",
        "Can Handle Missing Values (with some implementations): Some Decision Tree algorithms have mechanisms to handle missing data.\n",
        "Basis for Ensemble Methods: Decision Trees are the fundamental building blocks for powerful ensemble methods like Random Forests and Gradient Boosting.\n",
        "Disadvantages:\n",
        "\n",
        "Prone to Overfitting: Without proper pruning or constraints, Decision Trees can become overly complex and fit the training data too closely, leading to poor performance on unseen data.\n",
        "Instability: Small changes in the data can lead to a completely different tree structure.\n",
        "Greedy Approach: The algorithm makes the best split at each node locally, which doesn't guarantee a globally optimal tree.\n",
        "Bias Towards Features with More Levels: Features with a larger number of unique values can be favored during splitting.\n",
        "Difficulty with Continuous Variables: While they can handle continuous variables, they do so by creating binary splits, which can lose some information compared to methods that use the continuous nature of the data directly.\n",
        "Computational Cost (for large datasets): Building a deep tree can be computationally expensive for very large datasets.\n",
        "Understanding these trade-offs is important when deciding if a Decision Tree is the right algorithm for your specific problem.\n",
        "\n",
        "\n",
        "13.How does a Decision Tree handle missing values?\n",
        " - Handling missing values in Decision Trees can vary depending on the specific implementation and library used. However, here are some common approaches:\n",
        "\n",
        "Ignoring missing values: Some implementations simply ignore instances with missing values for the attribute being considered for a split. When calculating impurity or information gain for a split on a particular feature, only the instances with non-missing values for that feature are used.\n",
        "Assigning to the most frequent category/mean: For categorical features, missing values can be assigned to the most frequent category in the node. For numerical features, missing values might be assigned the mean or median of the non-missing values in the node.\n",
        "Splitting based on non-missing values: Some algorithms can send instances with missing values down all branches of a split, but with reduced weight. The weight assigned to an instance for a particular branch is proportional to the number of non-missing instances in the node that go down that branch.\n",
        "Considering missing as a separate category: For categorical features, missing values can be treated as a distinct category during the splitting process.\n",
        "Using surrogate splits: Some advanced implementations use \"surrogate splits.\" If the best split on a feature has many missing values, the algorithm finds alternative splits on other features that are highly correlated with the original split. Instances with missing values for the primary splitting feature are then directed down the branches of the surrogate split.\n",
        "It's important to consult the documentation of the specific Decision Tree library you are using (like scikit-learn in Python) to understand how it handles missing values by default and what options are available for configuring this behavior.\n",
        "\n",
        "\n",
        "14.How does a Decision Tree handle categorical features?\n",
        " - Handling categorical features in Decision Trees is a fundamental aspect of their operation. Decision Trees work by splitting the data based on feature values to create homogeneous child nodes. For categorical features, this typically involves creating branches for each unique category or grouping categories together. Here's how it generally works:\n",
        "\n",
        "Binary Splits for Multiple Categories: Even if a categorical feature has multiple unique values (e.g., \"Red,\" \"Blue,\" \"Green\"), a Decision Tree typically creates binary splits at each node. This means it will find the best way to divide the categories into two groups to maximize information gain (or minimize impurity). For example, a split might be \"Is the color 'Red'?\" (Yes/No), or \"Is the color in the set {'Blue', 'Green'}?\" (Yes/No).\n",
        "Finding the Best Split: The algorithm evaluates different possible groupings of categories to find the split that results in the highest information gain or lowest impurity. It will consider all possible combinations of splitting the categories into two sets.\n",
        "Handling Ordinal vs. Nominal Categories:\n",
        "Nominal Categories (no inherent order): For nominal features (like color), the tree will simply find the best way to group the categories for binary splits as described above.\n",
        "Ordinal Categories (have an order): For ordinal features (like \"Small,\" \"Medium,\" \"Large\"), the tree can potentially use the inherent order when making splits. For example, a split might be \"Is the size 'Medium' or larger?\" This utilizes the ordered nature of the categories.\n",
        "Libraries and Implementations: The specific details of how categorical features are handled can depend on the Decision Tree library being used. Some libraries might have optimized ways to handle categorical features with many unique values.\n",
        "In essence, Decision Trees handle categorical features by finding the most informative way to split the data based on the categories present in a node, typically resulting in binary branches.\n",
        "\n",
        "\n",
        "\n",
        "15.What are some real-world applications of Decision Trees?\n",
        " - Decision Trees are versatile and have many real-world applications across various domains. Here are some examples:\n",
        "\n",
        "Medical Diagnosis: Decision trees can be used to build models that help diagnose diseases based on patient symptoms, medical history, and test results.\n",
        "Credit Risk Assessment: Financial institutions use decision trees to assess the creditworthiness of loan applicants based on factors like income, credit history, and employment status.\n",
        "Customer Relationship Management (CRM): Decision trees can help identify customer segments, predict customer churn, and personalize marketing campaigns.\n",
        "Fraud Detection: They are used to build models that detect fraudulent transactions in banking, insurance, or other industries by identifying unusual patterns.\n",
        "Spam Filtering: Decision trees can be trained to classify emails as spam or not spam based on the presence of certain keywords or characteristics.\n",
        "Predicting Sales: Businesses can use decision trees to forecast sales based on historical data, promotions, and other relevant factors.\n",
        "Manufacturing and Quality Control: Decision trees can help identify the root causes of defects in manufacturing processes and improve quality control.\n",
        "Image Classification: While deep learning is more prevalent for complex image tasks, decision trees can be used for simpler image classification problems.\n",
        "Bioinformatics: Decision trees can be applied to analyze biological data, such as gene expression levels, to identify patterns and make predictions.\n",
        "These are just a few examples, and the application of Decision Trees is constantly expanding as data becomes more available and computational power increases.\n"
      ],
      "metadata": {
        "id": "GFZi9Lhv-CIq"
      }
    },
    {
      "cell_type": "markdown",
      "source": [
        "PRACTICAL QUESTIONS:"
      ],
      "metadata": {
        "id": "ZcjNOsExEHDR"
      }
    },
    {
      "cell_type": "code",
      "source": [
        "16.  #Write a Python program to train a Decision Tree Classifier on the Iris dataset and print the model accuracy\n",
        "\n",
        "from sklearn.datasets import load_iris\n",
        "from sklearn.tree import DecisionTreeClassifier\n",
        "from sklearn.model_selection import train_test_split\n",
        "from sklearn.metrics import accuracy_score\n",
        "\n",
        "# Load the Iris dataset\n",
        "iris = load_iris()\n",
        "X = iris.data\n",
        "y = iris.target\n",
        "\n",
        "# Split the dataset into training and testing sets\n",
        "X_train, X_test, y_train, y_test = train_test_split(X, y, test_size=0.3, random_state=42)\n",
        "\n",
        "# Create a Decision Tree Classifier object\n",
        "clf = DecisionTreeClassifier()\n",
        "\n",
        "# Train the Decision Tree Classifier\n",
        "clf = clf.fit(X_train, y_train)\n",
        "\n",
        "# Predict the response for test dataset\n",
        "y_pred = clf.predict(X_test)\n",
        "\n",
        "# Model Accuracy, how often is the classifier correct?\n",
        "print(\"Accuracy:\", accuracy_score(y_test, y_pred))\n"
      ],
      "metadata": {
        "colab": {
          "base_uri": "https://localhost:8080/"
        },
        "id": "F568_3Y3EOeh",
        "outputId": "89a46011-9bf3-4c39-ad94-b1e969939566"
      },
      "execution_count": 1,
      "outputs": [
        {
          "output_type": "stream",
          "name": "stdout",
          "text": [
            "Accuracy: 1.0\n"
          ]
        }
      ]
    },
    {
      "cell_type": "code",
      "source": [
        "17.  #Write a Python program to train a Decision Tree Classifier using Gini Impurity as the criterion and print the\n",
        "# feature importances\n",
        "\n",
        "# Create a Decision Tree Classifier object with Gini Impurity\n",
        "clf_gini = DecisionTreeClassifier(criterion=\"gini\", random_state=42)\n",
        "\n",
        "# Train the Decision Tree Classifier\n",
        "clf_gini = clf_gini.fit(X_train, y_train)\n",
        "\n",
        "# Predict the response for test dataset\n",
        "y_pred_gini = clf_gini.predict(X_test)\n",
        "\n",
        "# Model Accuracy, how often is the classifier correct?\n",
        "print(\"Accuracy (Gini):\", accuracy_score(y_test, y_pred_gini))\n",
        "\n",
        "# Print feature importances\n",
        "print(\"Feature Importances:\", clf_gini.feature_importances_)"
      ],
      "metadata": {
        "colab": {
          "base_uri": "https://localhost:8080/"
        },
        "id": "eKi-CWarEsoi",
        "outputId": "c848d4db-8a32-42e9-a5c6-812e2b2cf1a4"
      },
      "execution_count": 2,
      "outputs": [
        {
          "output_type": "stream",
          "name": "stdout",
          "text": [
            "Accuracy (Gini): 1.0\n",
            "Feature Importances: [0.         0.01911002 0.89326355 0.08762643]\n"
          ]
        }
      ]
    },
    {
      "cell_type": "code",
      "source": [
        "18. #Write a Python program to train a Decision Tree Classifier using Entropy as the splitting criterion and print the\n",
        "# model accuracy\n",
        "\n",
        "#Write a Python program to train a Decision Tree Classifier using Entropy as the splitting criterion and print the\n",
        "#model accuracy\n",
        "\n",
        "# Create a Decision Tree Classifier object with Entropy\n",
        "clf_entropy = DecisionTreeClassifier(criterion=\"entropy\", random_state=42)\n",
        "\n",
        "# Train the Decision Tree Classifier\n",
        "clf_entropy = clf_entropy.fit(X_train, y_train)\n",
        "\n",
        "# Predict the response for test dataset\n",
        "y_pred_entropy = clf_entropy.predict(X_test)\n",
        "\n",
        "# Model Accuracy, how often is the classifier correct?\n",
        "print(\"Accuracy (Entropy):\", accuracy_score(y_test, y_pred_entropy))"
      ],
      "metadata": {
        "colab": {
          "base_uri": "https://localhost:8080/"
        },
        "id": "VRKIdga8E7Yf",
        "outputId": "1381e11e-f54f-40c5-cf1b-3d08d27c57a0"
      },
      "execution_count": 3,
      "outputs": [
        {
          "output_type": "stream",
          "name": "stdout",
          "text": [
            "Accuracy (Entropy): 0.9777777777777777\n"
          ]
        }
      ]
    },
    {
      "cell_type": "code",
      "source": [
        "19. #Write a Python program to train a Decision Tree Regressor on a housing dataset and evaluate using Mean\n",
        "# Squared Error (MSE)\n",
        "\n",
        "from sklearn.datasets import fetch_california_housing\n",
        "from sklearn.tree import DecisionTreeRegressor\n",
        "from sklearn.model_selection import train_test_split\n",
        "from sklearn.metrics import mean_squared_error\n",
        "\n",
        "# Load the California housing dataset\n",
        "housing = fetch_california_housing()\n",
        "X_reg = housing.data\n",
        "y_reg = housing.target\n",
        "\n",
        "# Split the dataset into training and testing sets\n",
        "X_train_reg, X_test_reg, y_train_reg, y_test_reg = train_test_split(X_reg, y_reg, test_size=0.3, random_state=42)\n",
        "\n",
        "# Create a Decision Tree Regressor object\n",
        "regressor = DecisionTreeRegressor(random_state=42)\n",
        "\n",
        "# Train the Decision Tree Regressor\n",
        "regressor.fit(X_train_reg, y_train_reg)\n",
        "\n",
        "# Predict the response for test dataset\n",
        "y_pred_reg = regressor.predict(X_test_reg)\n",
        "\n",
        "# Evaluate the model using Mean Squared Error\n",
        "mse = mean_squared_error(y_test_reg, y_pred_reg)\n",
        "print(\"Mean Squared Error (MSE):\", mse)"
      ],
      "metadata": {
        "colab": {
          "base_uri": "https://localhost:8080/"
        },
        "id": "FFAEZk_1FH0r",
        "outputId": "161e7652-73f4-4971-8ec6-c54e948b38d2"
      },
      "execution_count": 6,
      "outputs": [
        {
          "output_type": "stream",
          "name": "stdout",
          "text": [
            "Mean Squared Error (MSE): 0.5280096503174904\n"
          ]
        }
      ]
    },
    {
      "cell_type": "code",
      "source": [
        "20. # Write a Python program to train a Decision Tree Classifier and visualize the tree using graphviz\n",
        "\n",
        "!pip install graphviz\n",
        "\n",
        "from sklearn.tree import export_graphviz\n",
        "import graphviz\n",
        "\n",
        "# Visualize the Decision Tree Classifier trained with Gini impurity\n",
        "dot_data_gini = export_graphviz(clf_gini, out_file=None,\n",
        "                                feature_names=iris.feature_names,\n",
        "                                class_names=iris.target_names,\n",
        "                                filled=True, rounded=True,\n",
        "                                special_characters=True)\n",
        "graph_gini = graphviz.Source(dot_data_gini)\n",
        "# To display the graph, you can save it to a file or render it directly\n",
        "# graph_gini.render(\"iris_gini_tree\")  # Saves to a file named iris_gini_tree.gv and iris_gini_tree.gv.pdf\n",
        "\n",
        "print(\"Decision Tree Classifier (Gini) Visualization:\")\n",
        "display(graph_gini)\n",
        "\n",
        "\n",
        "# Visualize the Decision Tree Classifier trained with Entropy\n",
        "dot_data_entropy = export_graphviz(clf_entropy, out_file=None,\n",
        "                                   feature_names=iris.feature_names,\n",
        "                                   class_names=iris.target_names,\n",
        "                                   filled=True, rounded=True,\n",
        "                                   special_characters=True)\n",
        "graph_entropy = graphviz.Source(dot_data_entropy)\n",
        "# To display the graph, you can save it to a file or render it directly\n",
        "# graph_entropy.render(\"iris_entropy_tree\")  # Saves to a file named iris_entropy_tree.gv and iris_entropy_tree.gv.pdf\n",
        "\n",
        "print(\"\\nDecision Tree Classifier (Entropy) Visualization:\")\n",
        "display(graph_entropy)\n"
      ],
      "metadata": {
        "colab": {
          "base_uri": "https://localhost:8080/",
          "height": 1000
        },
        "id": "qX1XSoG2FlLT",
        "outputId": "c1aba220-fbd7-47e1-de76-6a1b7f0dcb41"
      },
      "execution_count": 7,
      "outputs": [
        {
          "output_type": "stream",
          "name": "stdout",
          "text": [
            "Requirement already satisfied: graphviz in /usr/local/lib/python3.11/dist-packages (0.21)\n",
            "Decision Tree Classifier (Gini) Visualization:\n"
          ]
        },
        {
          "output_type": "display_data",
          "data": {
            "image/svg+xml": "<?xml version=\"1.0\" encoding=\"UTF-8\" standalone=\"no\"?>\n<!DOCTYPE svg PUBLIC \"-//W3C//DTD SVG 1.1//EN\"\n \"http://www.w3.org/Graphics/SVG/1.1/DTD/svg11.dtd\">\n<!-- Generated by graphviz version 2.43.0 (0)\n -->\n<!-- Title: Tree Pages: 1 -->\n<svg width=\"749pt\" height=\"790pt\"\n viewBox=\"0.00 0.00 749.00 790.00\" xmlns=\"http://www.w3.org/2000/svg\" xmlns:xlink=\"http://www.w3.org/1999/xlink\">\n<g id=\"graph0\" class=\"graph\" transform=\"scale(1 1) rotate(0) translate(4 786)\">\n<title>Tree</title>\n<polygon fill=\"white\" stroke=\"transparent\" points=\"-4,4 -4,-786 745,-786 745,4 -4,4\"/>\n<!-- 0 -->\n<g id=\"node1\" class=\"node\">\n<title>0</title>\n<path fill=\"#ffffff\" stroke=\"black\" d=\"M265,-782C265,-782 130,-782 130,-782 124,-782 118,-776 118,-770 118,-770 118,-711 118,-711 118,-705 124,-699 130,-699 130,-699 265,-699 265,-699 271,-699 277,-705 277,-711 277,-711 277,-770 277,-770 277,-776 271,-782 265,-782\"/>\n<text text-anchor=\"start\" x=\"126\" y=\"-766.8\" font-family=\"Helvetica,sans-Serif\" font-size=\"14.00\">petal length (cm) ≤ 2.45</text>\n<text text-anchor=\"start\" x=\"162\" y=\"-751.8\" font-family=\"Helvetica,sans-Serif\" font-size=\"14.00\">gini = 0.664</text>\n<text text-anchor=\"start\" x=\"152.5\" y=\"-736.8\" font-family=\"Helvetica,sans-Serif\" font-size=\"14.00\">samples = 105</text>\n<text text-anchor=\"start\" x=\"139.5\" y=\"-721.8\" font-family=\"Helvetica,sans-Serif\" font-size=\"14.00\">value = [31, 37, 37]</text>\n<text text-anchor=\"start\" x=\"145\" y=\"-706.8\" font-family=\"Helvetica,sans-Serif\" font-size=\"14.00\">class = versicolor</text>\n</g>\n<!-- 1 -->\n<g id=\"node2\" class=\"node\">\n<title>1</title>\n<path fill=\"#e58139\" stroke=\"black\" d=\"M166,-655.5C166,-655.5 73,-655.5 73,-655.5 67,-655.5 61,-649.5 61,-643.5 61,-643.5 61,-599.5 61,-599.5 61,-593.5 67,-587.5 73,-587.5 73,-587.5 166,-587.5 166,-587.5 172,-587.5 178,-593.5 178,-599.5 178,-599.5 178,-643.5 178,-643.5 178,-649.5 172,-655.5 166,-655.5\"/>\n<text text-anchor=\"start\" x=\"91.5\" y=\"-640.3\" font-family=\"Helvetica,sans-Serif\" font-size=\"14.00\">gini = 0.0</text>\n<text text-anchor=\"start\" x=\"78.5\" y=\"-625.3\" font-family=\"Helvetica,sans-Serif\" font-size=\"14.00\">samples = 31</text>\n<text text-anchor=\"start\" x=\"69\" y=\"-610.3\" font-family=\"Helvetica,sans-Serif\" font-size=\"14.00\">value = [31, 0, 0]</text>\n<text text-anchor=\"start\" x=\"76\" y=\"-595.3\" font-family=\"Helvetica,sans-Serif\" font-size=\"14.00\">class = setosa</text>\n</g>\n<!-- 0&#45;&gt;1 -->\n<g id=\"edge1\" class=\"edge\">\n<title>0&#45;&gt;1</title>\n<path fill=\"none\" stroke=\"black\" d=\"M170.44,-698.91C162.93,-687.65 154.78,-675.42 147.24,-664.11\"/>\n<polygon fill=\"black\" stroke=\"black\" points=\"150.07,-662.05 141.61,-655.67 144.25,-665.93 150.07,-662.05\"/>\n<text text-anchor=\"middle\" x=\"136.71\" y=\"-676.48\" font-family=\"Helvetica,sans-Serif\" font-size=\"14.00\">True</text>\n</g>\n<!-- 2 -->\n<g id=\"node3\" class=\"node\">\n<title>2</title>\n<path fill=\"#ffffff\" stroke=\"black\" d=\"M343,-663C343,-663 208,-663 208,-663 202,-663 196,-657 196,-651 196,-651 196,-592 196,-592 196,-586 202,-580 208,-580 208,-580 343,-580 343,-580 349,-580 355,-586 355,-592 355,-592 355,-651 355,-651 355,-657 349,-663 343,-663\"/>\n<text text-anchor=\"start\" x=\"204\" y=\"-647.8\" font-family=\"Helvetica,sans-Serif\" font-size=\"14.00\">petal length (cm) ≤ 4.75</text>\n<text text-anchor=\"start\" x=\"247.5\" y=\"-632.8\" font-family=\"Helvetica,sans-Serif\" font-size=\"14.00\">gini = 0.5</text>\n<text text-anchor=\"start\" x=\"234.5\" y=\"-617.8\" font-family=\"Helvetica,sans-Serif\" font-size=\"14.00\">samples = 74</text>\n<text text-anchor=\"start\" x=\"221\" y=\"-602.8\" font-family=\"Helvetica,sans-Serif\" font-size=\"14.00\">value = [0, 37, 37]</text>\n<text text-anchor=\"start\" x=\"223\" y=\"-587.8\" font-family=\"Helvetica,sans-Serif\" font-size=\"14.00\">class = versicolor</text>\n</g>\n<!-- 0&#45;&gt;2 -->\n<g id=\"edge2\" class=\"edge\">\n<title>0&#45;&gt;2</title>\n<path fill=\"none\" stroke=\"black\" d=\"M224.56,-698.91C230.43,-690.1 236.7,-680.7 242.76,-671.61\"/>\n<polygon fill=\"black\" stroke=\"black\" points=\"245.85,-673.28 248.49,-663.02 240.03,-669.4 245.85,-673.28\"/>\n<text text-anchor=\"middle\" x=\"253.39\" y=\"-683.84\" font-family=\"Helvetica,sans-Serif\" font-size=\"14.00\">False</text>\n</g>\n<!-- 3 -->\n<g id=\"node4\" class=\"node\">\n<title>3</title>\n<path fill=\"#3fe685\" stroke=\"black\" d=\"M252.5,-544C252.5,-544 130.5,-544 130.5,-544 124.5,-544 118.5,-538 118.5,-532 118.5,-532 118.5,-473 118.5,-473 118.5,-467 124.5,-461 130.5,-461 130.5,-461 252.5,-461 252.5,-461 258.5,-461 264.5,-467 264.5,-473 264.5,-473 264.5,-532 264.5,-532 264.5,-538 258.5,-544 252.5,-544\"/>\n<text text-anchor=\"start\" x=\"126.5\" y=\"-528.8\" font-family=\"Helvetica,sans-Serif\" font-size=\"14.00\">petal width (cm) ≤ 1.6</text>\n<text text-anchor=\"start\" x=\"156\" y=\"-513.8\" font-family=\"Helvetica,sans-Serif\" font-size=\"14.00\">gini = 0.059</text>\n<text text-anchor=\"start\" x=\"150.5\" y=\"-498.8\" font-family=\"Helvetica,sans-Serif\" font-size=\"14.00\">samples = 33</text>\n<text text-anchor=\"start\" x=\"141\" y=\"-483.8\" font-family=\"Helvetica,sans-Serif\" font-size=\"14.00\">value = [0, 32, 1]</text>\n<text text-anchor=\"start\" x=\"139\" y=\"-468.8\" font-family=\"Helvetica,sans-Serif\" font-size=\"14.00\">class = versicolor</text>\n</g>\n<!-- 2&#45;&gt;3 -->\n<g id=\"edge3\" class=\"edge\">\n<title>2&#45;&gt;3</title>\n<path fill=\"none\" stroke=\"black\" d=\"M246.36,-579.91C239.97,-571.01 233.15,-561.51 226.56,-552.33\"/>\n<polygon fill=\"black\" stroke=\"black\" points=\"229.27,-550.1 220.59,-544.02 223.58,-554.19 229.27,-550.1\"/>\n</g>\n<!-- 6 -->\n<g id=\"node7\" class=\"node\">\n<title>6</title>\n<path fill=\"#9254e9\" stroke=\"black\" d=\"M424.5,-544C424.5,-544 294.5,-544 294.5,-544 288.5,-544 282.5,-538 282.5,-532 282.5,-532 282.5,-473 282.5,-473 282.5,-467 288.5,-461 294.5,-461 294.5,-461 424.5,-461 424.5,-461 430.5,-461 436.5,-467 436.5,-473 436.5,-473 436.5,-532 436.5,-532 436.5,-538 430.5,-544 424.5,-544\"/>\n<text text-anchor=\"start\" x=\"290.5\" y=\"-528.8\" font-family=\"Helvetica,sans-Serif\" font-size=\"14.00\">petal width (cm) ≤ 1.75</text>\n<text text-anchor=\"start\" x=\"324\" y=\"-513.8\" font-family=\"Helvetica,sans-Serif\" font-size=\"14.00\">gini = 0.214</text>\n<text text-anchor=\"start\" x=\"318.5\" y=\"-498.8\" font-family=\"Helvetica,sans-Serif\" font-size=\"14.00\">samples = 41</text>\n<text text-anchor=\"start\" x=\"309\" y=\"-483.8\" font-family=\"Helvetica,sans-Serif\" font-size=\"14.00\">value = [0, 5, 36]</text>\n<text text-anchor=\"start\" x=\"311\" y=\"-468.8\" font-family=\"Helvetica,sans-Serif\" font-size=\"14.00\">class = virginica</text>\n</g>\n<!-- 2&#45;&gt;6 -->\n<g id=\"edge6\" class=\"edge\">\n<title>2&#45;&gt;6</title>\n<path fill=\"none\" stroke=\"black\" d=\"M304.64,-579.91C311.03,-571.01 317.85,-561.51 324.44,-552.33\"/>\n<polygon fill=\"black\" stroke=\"black\" points=\"327.42,-554.19 330.41,-544.02 321.73,-550.1 327.42,-554.19\"/>\n</g>\n<!-- 4 -->\n<g id=\"node5\" class=\"node\">\n<title>4</title>\n<path fill=\"#39e581\" stroke=\"black\" d=\"M109,-417.5C109,-417.5 12,-417.5 12,-417.5 6,-417.5 0,-411.5 0,-405.5 0,-405.5 0,-361.5 0,-361.5 0,-355.5 6,-349.5 12,-349.5 12,-349.5 109,-349.5 109,-349.5 115,-349.5 121,-355.5 121,-361.5 121,-361.5 121,-405.5 121,-405.5 121,-411.5 115,-417.5 109,-417.5\"/>\n<text text-anchor=\"start\" x=\"32.5\" y=\"-402.3\" font-family=\"Helvetica,sans-Serif\" font-size=\"14.00\">gini = 0.0</text>\n<text text-anchor=\"start\" x=\"19.5\" y=\"-387.3\" font-family=\"Helvetica,sans-Serif\" font-size=\"14.00\">samples = 32</text>\n<text text-anchor=\"start\" x=\"10\" y=\"-372.3\" font-family=\"Helvetica,sans-Serif\" font-size=\"14.00\">value = [0, 32, 0]</text>\n<text text-anchor=\"start\" x=\"8\" y=\"-357.3\" font-family=\"Helvetica,sans-Serif\" font-size=\"14.00\">class = versicolor</text>\n</g>\n<!-- 3&#45;&gt;4 -->\n<g id=\"edge4\" class=\"edge\">\n<title>3&#45;&gt;4</title>\n<path fill=\"none\" stroke=\"black\" d=\"M146.05,-460.91C132.83,-449.1 118.4,-436.22 105.23,-424.45\"/>\n<polygon fill=\"black\" stroke=\"black\" points=\"107.43,-421.72 97.64,-417.67 102.76,-426.94 107.43,-421.72\"/>\n</g>\n<!-- 5 -->\n<g id=\"node6\" class=\"node\">\n<title>5</title>\n<path fill=\"#8139e5\" stroke=\"black\" d=\"M240,-417.5C240,-417.5 151,-417.5 151,-417.5 145,-417.5 139,-411.5 139,-405.5 139,-405.5 139,-361.5 139,-361.5 139,-355.5 145,-349.5 151,-349.5 151,-349.5 240,-349.5 240,-349.5 246,-349.5 252,-355.5 252,-361.5 252,-361.5 252,-405.5 252,-405.5 252,-411.5 246,-417.5 240,-417.5\"/>\n<text text-anchor=\"start\" x=\"167.5\" y=\"-402.3\" font-family=\"Helvetica,sans-Serif\" font-size=\"14.00\">gini = 0.0</text>\n<text text-anchor=\"start\" x=\"158\" y=\"-387.3\" font-family=\"Helvetica,sans-Serif\" font-size=\"14.00\">samples = 1</text>\n<text text-anchor=\"start\" x=\"148.5\" y=\"-372.3\" font-family=\"Helvetica,sans-Serif\" font-size=\"14.00\">value = [0, 0, 1]</text>\n<text text-anchor=\"start\" x=\"147\" y=\"-357.3\" font-family=\"Helvetica,sans-Serif\" font-size=\"14.00\">class = virginica</text>\n</g>\n<!-- 3&#45;&gt;5 -->\n<g id=\"edge5\" class=\"edge\">\n<title>3&#45;&gt;5</title>\n<path fill=\"none\" stroke=\"black\" d=\"M192.89,-460.91C193.25,-450.2 193.65,-438.62 194.02,-427.78\"/>\n<polygon fill=\"black\" stroke=\"black\" points=\"197.52,-427.78 194.37,-417.67 190.53,-427.54 197.52,-427.78\"/>\n</g>\n<!-- 7 -->\n<g id=\"node8\" class=\"node\">\n<title>7</title>\n<path fill=\"#ffffff\" stroke=\"black\" d=\"M424,-425C424,-425 289,-425 289,-425 283,-425 277,-419 277,-413 277,-413 277,-354 277,-354 277,-348 283,-342 289,-342 289,-342 424,-342 424,-342 430,-342 436,-348 436,-354 436,-354 436,-413 436,-413 436,-419 430,-425 424,-425\"/>\n<text text-anchor=\"start\" x=\"285\" y=\"-409.8\" font-family=\"Helvetica,sans-Serif\" font-size=\"14.00\">petal length (cm) ≤ 4.95</text>\n<text text-anchor=\"start\" x=\"328.5\" y=\"-394.8\" font-family=\"Helvetica,sans-Serif\" font-size=\"14.00\">gini = 0.5</text>\n<text text-anchor=\"start\" x=\"319\" y=\"-379.8\" font-family=\"Helvetica,sans-Serif\" font-size=\"14.00\">samples = 8</text>\n<text text-anchor=\"start\" x=\"309.5\" y=\"-364.8\" font-family=\"Helvetica,sans-Serif\" font-size=\"14.00\">value = [0, 4, 4]</text>\n<text text-anchor=\"start\" x=\"304\" y=\"-349.8\" font-family=\"Helvetica,sans-Serif\" font-size=\"14.00\">class = versicolor</text>\n</g>\n<!-- 6&#45;&gt;7 -->\n<g id=\"edge7\" class=\"edge\">\n<title>6&#45;&gt;7</title>\n<path fill=\"none\" stroke=\"black\" d=\"M358.46,-460.91C358.25,-452.56 358.02,-443.67 357.8,-435.02\"/>\n<polygon fill=\"black\" stroke=\"black\" points=\"361.29,-434.93 357.54,-425.02 354.3,-435.11 361.29,-434.93\"/>\n</g>\n<!-- 14 -->\n<g id=\"node15\" class=\"node\">\n<title>14</title>\n<path fill=\"#853fe6\" stroke=\"black\" d=\"M601,-425C601,-425 466,-425 466,-425 460,-425 454,-419 454,-413 454,-413 454,-354 454,-354 454,-348 460,-342 466,-342 466,-342 601,-342 601,-342 607,-342 613,-348 613,-354 613,-354 613,-413 613,-413 613,-419 607,-425 601,-425\"/>\n<text text-anchor=\"start\" x=\"462\" y=\"-409.8\" font-family=\"Helvetica,sans-Serif\" font-size=\"14.00\">petal length (cm) ≤ 4.85</text>\n<text text-anchor=\"start\" x=\"498\" y=\"-394.8\" font-family=\"Helvetica,sans-Serif\" font-size=\"14.00\">gini = 0.059</text>\n<text text-anchor=\"start\" x=\"492.5\" y=\"-379.8\" font-family=\"Helvetica,sans-Serif\" font-size=\"14.00\">samples = 33</text>\n<text text-anchor=\"start\" x=\"483\" y=\"-364.8\" font-family=\"Helvetica,sans-Serif\" font-size=\"14.00\">value = [0, 1, 32]</text>\n<text text-anchor=\"start\" x=\"485\" y=\"-349.8\" font-family=\"Helvetica,sans-Serif\" font-size=\"14.00\">class = virginica</text>\n</g>\n<!-- 6&#45;&gt;14 -->\n<g id=\"edge14\" class=\"edge\">\n<title>6&#45;&gt;14</title>\n<path fill=\"none\" stroke=\"black\" d=\"M419.87,-460.91C434.31,-451.2 449.83,-440.76 464.63,-430.81\"/>\n<polygon fill=\"black\" stroke=\"black\" points=\"466.89,-433.51 473.24,-425.02 462.99,-427.7 466.89,-433.51\"/>\n</g>\n<!-- 8 -->\n<g id=\"node9\" class=\"node\">\n<title>8</title>\n<path fill=\"#39e581\" stroke=\"black\" d=\"M252,-298.5C252,-298.5 155,-298.5 155,-298.5 149,-298.5 143,-292.5 143,-286.5 143,-286.5 143,-242.5 143,-242.5 143,-236.5 149,-230.5 155,-230.5 155,-230.5 252,-230.5 252,-230.5 258,-230.5 264,-236.5 264,-242.5 264,-242.5 264,-286.5 264,-286.5 264,-292.5 258,-298.5 252,-298.5\"/>\n<text text-anchor=\"start\" x=\"175.5\" y=\"-283.3\" font-family=\"Helvetica,sans-Serif\" font-size=\"14.00\">gini = 0.0</text>\n<text text-anchor=\"start\" x=\"166\" y=\"-268.3\" font-family=\"Helvetica,sans-Serif\" font-size=\"14.00\">samples = 2</text>\n<text text-anchor=\"start\" x=\"156.5\" y=\"-253.3\" font-family=\"Helvetica,sans-Serif\" font-size=\"14.00\">value = [0, 2, 0]</text>\n<text text-anchor=\"start\" x=\"151\" y=\"-238.3\" font-family=\"Helvetica,sans-Serif\" font-size=\"14.00\">class = versicolor</text>\n</g>\n<!-- 7&#45;&gt;8 -->\n<g id=\"edge8\" class=\"edge\">\n<title>7&#45;&gt;8</title>\n<path fill=\"none\" stroke=\"black\" d=\"M303.42,-341.91C287.69,-329.88 270.5,-316.73 254.88,-304.79\"/>\n<polygon fill=\"black\" stroke=\"black\" points=\"256.94,-301.96 246.87,-298.67 252.69,-307.52 256.94,-301.96\"/>\n</g>\n<!-- 9 -->\n<g id=\"node10\" class=\"node\">\n<title>9</title>\n<path fill=\"#c09cf2\" stroke=\"black\" d=\"M424.5,-306C424.5,-306 294.5,-306 294.5,-306 288.5,-306 282.5,-300 282.5,-294 282.5,-294 282.5,-235 282.5,-235 282.5,-229 288.5,-223 294.5,-223 294.5,-223 424.5,-223 424.5,-223 430.5,-223 436.5,-229 436.5,-235 436.5,-235 436.5,-294 436.5,-294 436.5,-300 430.5,-306 424.5,-306\"/>\n<text text-anchor=\"start\" x=\"290.5\" y=\"-290.8\" font-family=\"Helvetica,sans-Serif\" font-size=\"14.00\">petal width (cm) ≤ 1.55</text>\n<text text-anchor=\"start\" x=\"324\" y=\"-275.8\" font-family=\"Helvetica,sans-Serif\" font-size=\"14.00\">gini = 0.444</text>\n<text text-anchor=\"start\" x=\"322\" y=\"-260.8\" font-family=\"Helvetica,sans-Serif\" font-size=\"14.00\">samples = 6</text>\n<text text-anchor=\"start\" x=\"312.5\" y=\"-245.8\" font-family=\"Helvetica,sans-Serif\" font-size=\"14.00\">value = [0, 2, 4]</text>\n<text text-anchor=\"start\" x=\"311\" y=\"-230.8\" font-family=\"Helvetica,sans-Serif\" font-size=\"14.00\">class = virginica</text>\n</g>\n<!-- 7&#45;&gt;9 -->\n<g id=\"edge9\" class=\"edge\">\n<title>7&#45;&gt;9</title>\n<path fill=\"none\" stroke=\"black\" d=\"M357.54,-341.91C357.75,-333.56 357.98,-324.67 358.2,-316.02\"/>\n<polygon fill=\"black\" stroke=\"black\" points=\"361.7,-316.11 358.46,-306.02 354.71,-315.93 361.7,-316.11\"/>\n</g>\n<!-- 10 -->\n<g id=\"node11\" class=\"node\">\n<title>10</title>\n<path fill=\"#8139e5\" stroke=\"black\" d=\"M254,-179.5C254,-179.5 165,-179.5 165,-179.5 159,-179.5 153,-173.5 153,-167.5 153,-167.5 153,-123.5 153,-123.5 153,-117.5 159,-111.5 165,-111.5 165,-111.5 254,-111.5 254,-111.5 260,-111.5 266,-117.5 266,-123.5 266,-123.5 266,-167.5 266,-167.5 266,-173.5 260,-179.5 254,-179.5\"/>\n<text text-anchor=\"start\" x=\"181.5\" y=\"-164.3\" font-family=\"Helvetica,sans-Serif\" font-size=\"14.00\">gini = 0.0</text>\n<text text-anchor=\"start\" x=\"172\" y=\"-149.3\" font-family=\"Helvetica,sans-Serif\" font-size=\"14.00\">samples = 3</text>\n<text text-anchor=\"start\" x=\"162.5\" y=\"-134.3\" font-family=\"Helvetica,sans-Serif\" font-size=\"14.00\">value = [0, 0, 3]</text>\n<text text-anchor=\"start\" x=\"161\" y=\"-119.3\" font-family=\"Helvetica,sans-Serif\" font-size=\"14.00\">class = virginica</text>\n</g>\n<!-- 9&#45;&gt;10 -->\n<g id=\"edge10\" class=\"edge\">\n<title>9&#45;&gt;10</title>\n<path fill=\"none\" stroke=\"black\" d=\"M307.46,-222.91C292.18,-210.99 275.49,-197.98 260.29,-186.12\"/>\n<polygon fill=\"black\" stroke=\"black\" points=\"262.06,-183.06 252.02,-179.67 257.75,-188.58 262.06,-183.06\"/>\n</g>\n<!-- 11 -->\n<g id=\"node12\" class=\"node\">\n<title>11</title>\n<path fill=\"#9cf2c0\" stroke=\"black\" d=\"M431,-187C431,-187 296,-187 296,-187 290,-187 284,-181 284,-175 284,-175 284,-116 284,-116 284,-110 290,-104 296,-104 296,-104 431,-104 431,-104 437,-104 443,-110 443,-116 443,-116 443,-175 443,-175 443,-181 437,-187 431,-187\"/>\n<text text-anchor=\"start\" x=\"292\" y=\"-171.8\" font-family=\"Helvetica,sans-Serif\" font-size=\"14.00\">petal length (cm) ≤ 5.45</text>\n<text text-anchor=\"start\" x=\"328\" y=\"-156.8\" font-family=\"Helvetica,sans-Serif\" font-size=\"14.00\">gini = 0.444</text>\n<text text-anchor=\"start\" x=\"326\" y=\"-141.8\" font-family=\"Helvetica,sans-Serif\" font-size=\"14.00\">samples = 3</text>\n<text text-anchor=\"start\" x=\"316.5\" y=\"-126.8\" font-family=\"Helvetica,sans-Serif\" font-size=\"14.00\">value = [0, 2, 1]</text>\n<text text-anchor=\"start\" x=\"311\" y=\"-111.8\" font-family=\"Helvetica,sans-Serif\" font-size=\"14.00\">class = versicolor</text>\n</g>\n<!-- 9&#45;&gt;11 -->\n<g id=\"edge11\" class=\"edge\">\n<title>9&#45;&gt;11</title>\n<path fill=\"none\" stroke=\"black\" d=\"M360.89,-222.91C361.17,-214.56 361.48,-205.67 361.77,-197.02\"/>\n<polygon fill=\"black\" stroke=\"black\" points=\"365.27,-197.13 362.11,-187.02 358.27,-196.9 365.27,-197.13\"/>\n</g>\n<!-- 12 -->\n<g id=\"node13\" class=\"node\">\n<title>12</title>\n<path fill=\"#39e581\" stroke=\"black\" d=\"M345,-68C345,-68 248,-68 248,-68 242,-68 236,-62 236,-56 236,-56 236,-12 236,-12 236,-6 242,0 248,0 248,0 345,0 345,0 351,0 357,-6 357,-12 357,-12 357,-56 357,-56 357,-62 351,-68 345,-68\"/>\n<text text-anchor=\"start\" x=\"268.5\" y=\"-52.8\" font-family=\"Helvetica,sans-Serif\" font-size=\"14.00\">gini = 0.0</text>\n<text text-anchor=\"start\" x=\"259\" y=\"-37.8\" font-family=\"Helvetica,sans-Serif\" font-size=\"14.00\">samples = 2</text>\n<text text-anchor=\"start\" x=\"249.5\" y=\"-22.8\" font-family=\"Helvetica,sans-Serif\" font-size=\"14.00\">value = [0, 2, 0]</text>\n<text text-anchor=\"start\" x=\"244\" y=\"-7.8\" font-family=\"Helvetica,sans-Serif\" font-size=\"14.00\">class = versicolor</text>\n</g>\n<!-- 11&#45;&gt;12 -->\n<g id=\"edge12\" class=\"edge\">\n<title>11&#45;&gt;12</title>\n<path fill=\"none\" stroke=\"black\" d=\"M338.55,-103.73C333.19,-94.97 327.52,-85.7 322.14,-76.91\"/>\n<polygon fill=\"black\" stroke=\"black\" points=\"325.08,-75 316.88,-68.3 319.11,-78.66 325.08,-75\"/>\n</g>\n<!-- 13 -->\n<g id=\"node14\" class=\"node\">\n<title>13</title>\n<path fill=\"#8139e5\" stroke=\"black\" d=\"M476,-68C476,-68 387,-68 387,-68 381,-68 375,-62 375,-56 375,-56 375,-12 375,-12 375,-6 381,0 387,0 387,0 476,0 476,0 482,0 488,-6 488,-12 488,-12 488,-56 488,-56 488,-62 482,-68 476,-68\"/>\n<text text-anchor=\"start\" x=\"403.5\" y=\"-52.8\" font-family=\"Helvetica,sans-Serif\" font-size=\"14.00\">gini = 0.0</text>\n<text text-anchor=\"start\" x=\"394\" y=\"-37.8\" font-family=\"Helvetica,sans-Serif\" font-size=\"14.00\">samples = 1</text>\n<text text-anchor=\"start\" x=\"384.5\" y=\"-22.8\" font-family=\"Helvetica,sans-Serif\" font-size=\"14.00\">value = [0, 0, 1]</text>\n<text text-anchor=\"start\" x=\"383\" y=\"-7.8\" font-family=\"Helvetica,sans-Serif\" font-size=\"14.00\">class = virginica</text>\n</g>\n<!-- 11&#45;&gt;13 -->\n<g id=\"edge13\" class=\"edge\">\n<title>11&#45;&gt;13</title>\n<path fill=\"none\" stroke=\"black\" d=\"M388.82,-103.73C394.26,-94.97 400.01,-85.7 405.48,-76.91\"/>\n<polygon fill=\"black\" stroke=\"black\" points=\"408.52,-78.64 410.82,-68.3 402.57,-74.95 408.52,-78.64\"/>\n</g>\n<!-- 15 -->\n<g id=\"node16\" class=\"node\">\n<title>15</title>\n<path fill=\"#c09cf2\" stroke=\"black\" d=\"M594,-306C594,-306 469,-306 469,-306 463,-306 457,-300 457,-294 457,-294 457,-235 457,-235 457,-229 463,-223 469,-223 469,-223 594,-223 594,-223 600,-223 606,-229 606,-235 606,-235 606,-294 606,-294 606,-300 600,-306 594,-306\"/>\n<text text-anchor=\"start\" x=\"465\" y=\"-290.8\" font-family=\"Helvetica,sans-Serif\" font-size=\"14.00\">sepal width (cm) ≤ 3.1</text>\n<text text-anchor=\"start\" x=\"496\" y=\"-275.8\" font-family=\"Helvetica,sans-Serif\" font-size=\"14.00\">gini = 0.444</text>\n<text text-anchor=\"start\" x=\"494\" y=\"-260.8\" font-family=\"Helvetica,sans-Serif\" font-size=\"14.00\">samples = 3</text>\n<text text-anchor=\"start\" x=\"484.5\" y=\"-245.8\" font-family=\"Helvetica,sans-Serif\" font-size=\"14.00\">value = [0, 1, 2]</text>\n<text text-anchor=\"start\" x=\"483\" y=\"-230.8\" font-family=\"Helvetica,sans-Serif\" font-size=\"14.00\">class = virginica</text>\n</g>\n<!-- 14&#45;&gt;15 -->\n<g id=\"edge15\" class=\"edge\">\n<title>14&#45;&gt;15</title>\n<path fill=\"none\" stroke=\"black\" d=\"M532.81,-341.91C532.66,-333.56 532.51,-324.67 532.36,-316.02\"/>\n<polygon fill=\"black\" stroke=\"black\" points=\"535.86,-315.96 532.19,-306.02 528.86,-316.08 535.86,-315.96\"/>\n</g>\n<!-- 18 -->\n<g id=\"node19\" class=\"node\">\n<title>18</title>\n<path fill=\"#8139e5\" stroke=\"black\" d=\"M729,-298.5C729,-298.5 636,-298.5 636,-298.5 630,-298.5 624,-292.5 624,-286.5 624,-286.5 624,-242.5 624,-242.5 624,-236.5 630,-230.5 636,-230.5 636,-230.5 729,-230.5 729,-230.5 735,-230.5 741,-236.5 741,-242.5 741,-242.5 741,-286.5 741,-286.5 741,-292.5 735,-298.5 729,-298.5\"/>\n<text text-anchor=\"start\" x=\"654.5\" y=\"-283.3\" font-family=\"Helvetica,sans-Serif\" font-size=\"14.00\">gini = 0.0</text>\n<text text-anchor=\"start\" x=\"641.5\" y=\"-268.3\" font-family=\"Helvetica,sans-Serif\" font-size=\"14.00\">samples = 30</text>\n<text text-anchor=\"start\" x=\"632\" y=\"-253.3\" font-family=\"Helvetica,sans-Serif\" font-size=\"14.00\">value = [0, 0, 30]</text>\n<text text-anchor=\"start\" x=\"634\" y=\"-238.3\" font-family=\"Helvetica,sans-Serif\" font-size=\"14.00\">class = virginica</text>\n</g>\n<!-- 14&#45;&gt;18 -->\n<g id=\"edge18\" class=\"edge\">\n<title>14&#45;&gt;18</title>\n<path fill=\"none\" stroke=\"black\" d=\"M585.19,-341.91C600.37,-329.99 616.95,-316.98 632.04,-305.12\"/>\n<polygon fill=\"black\" stroke=\"black\" points=\"634.56,-307.6 640.26,-298.67 630.24,-302.09 634.56,-307.6\"/>\n</g>\n<!-- 16 -->\n<g id=\"node17\" class=\"node\">\n<title>16</title>\n<path fill=\"#8139e5\" stroke=\"black\" d=\"M573,-179.5C573,-179.5 484,-179.5 484,-179.5 478,-179.5 472,-173.5 472,-167.5 472,-167.5 472,-123.5 472,-123.5 472,-117.5 478,-111.5 484,-111.5 484,-111.5 573,-111.5 573,-111.5 579,-111.5 585,-117.5 585,-123.5 585,-123.5 585,-167.5 585,-167.5 585,-173.5 579,-179.5 573,-179.5\"/>\n<text text-anchor=\"start\" x=\"500.5\" y=\"-164.3\" font-family=\"Helvetica,sans-Serif\" font-size=\"14.00\">gini = 0.0</text>\n<text text-anchor=\"start\" x=\"491\" y=\"-149.3\" font-family=\"Helvetica,sans-Serif\" font-size=\"14.00\">samples = 2</text>\n<text text-anchor=\"start\" x=\"481.5\" y=\"-134.3\" font-family=\"Helvetica,sans-Serif\" font-size=\"14.00\">value = [0, 0, 2]</text>\n<text text-anchor=\"start\" x=\"480\" y=\"-119.3\" font-family=\"Helvetica,sans-Serif\" font-size=\"14.00\">class = virginica</text>\n</g>\n<!-- 15&#45;&gt;16 -->\n<g id=\"edge16\" class=\"edge\">\n<title>15&#45;&gt;16</title>\n<path fill=\"none\" stroke=\"black\" d=\"M530.46,-222.91C530.18,-212.2 529.89,-200.62 529.61,-189.78\"/>\n<polygon fill=\"black\" stroke=\"black\" points=\"533.11,-189.57 529.35,-179.67 526.11,-189.75 533.11,-189.57\"/>\n</g>\n<!-- 17 -->\n<g id=\"node18\" class=\"node\">\n<title>17</title>\n<path fill=\"#39e581\" stroke=\"black\" d=\"M712,-179.5C712,-179.5 615,-179.5 615,-179.5 609,-179.5 603,-173.5 603,-167.5 603,-167.5 603,-123.5 603,-123.5 603,-117.5 609,-111.5 615,-111.5 615,-111.5 712,-111.5 712,-111.5 718,-111.5 724,-117.5 724,-123.5 724,-123.5 724,-167.5 724,-167.5 724,-173.5 718,-179.5 712,-179.5\"/>\n<text text-anchor=\"start\" x=\"635.5\" y=\"-164.3\" font-family=\"Helvetica,sans-Serif\" font-size=\"14.00\">gini = 0.0</text>\n<text text-anchor=\"start\" x=\"626\" y=\"-149.3\" font-family=\"Helvetica,sans-Serif\" font-size=\"14.00\">samples = 1</text>\n<text text-anchor=\"start\" x=\"616.5\" y=\"-134.3\" font-family=\"Helvetica,sans-Serif\" font-size=\"14.00\">value = [0, 1, 0]</text>\n<text text-anchor=\"start\" x=\"611\" y=\"-119.3\" font-family=\"Helvetica,sans-Serif\" font-size=\"14.00\">class = versicolor</text>\n</g>\n<!-- 15&#45;&gt;17 -->\n<g id=\"edge17\" class=\"edge\">\n<title>15&#45;&gt;17</title>\n<path fill=\"none\" stroke=\"black\" d=\"M577.3,-222.91C590.62,-211.1 605.15,-198.22 618.43,-186.45\"/>\n<polygon fill=\"black\" stroke=\"black\" points=\"620.92,-188.92 626.08,-179.67 616.28,-183.68 620.92,-188.92\"/>\n</g>\n</g>\n</svg>\n",
            "text/plain": [
              "<graphviz.sources.Source at 0x78713c91fc10>"
            ]
          },
          "metadata": {}
        },
        {
          "output_type": "stream",
          "name": "stdout",
          "text": [
            "\n",
            "Decision Tree Classifier (Entropy) Visualization:\n"
          ]
        },
        {
          "output_type": "display_data",
          "data": {
            "image/svg+xml": "<?xml version=\"1.0\" encoding=\"UTF-8\" standalone=\"no\"?>\n<!DOCTYPE svg PUBLIC \"-//W3C//DTD SVG 1.1//EN\"\n \"http://www.w3.org/Graphics/SVG/1.1/DTD/svg11.dtd\">\n<!-- Generated by graphviz version 2.43.0 (0)\n -->\n<!-- Title: Tree Pages: 1 -->\n<svg width=\"642pt\" height=\"909pt\"\n viewBox=\"0.00 0.00 642.00 909.00\" xmlns=\"http://www.w3.org/2000/svg\" xmlns:xlink=\"http://www.w3.org/1999/xlink\">\n<g id=\"graph0\" class=\"graph\" transform=\"scale(1 1) rotate(0) translate(4 905)\">\n<title>Tree</title>\n<polygon fill=\"white\" stroke=\"transparent\" points=\"-4,4 -4,-905 638,-905 638,4 -4,4\"/>\n<!-- 0 -->\n<g id=\"node1\" class=\"node\">\n<title>0</title>\n<path fill=\"#ffffff\" stroke=\"black\" d=\"M265,-901C265,-901 130,-901 130,-901 124,-901 118,-895 118,-889 118,-889 118,-830 118,-830 118,-824 124,-818 130,-818 130,-818 265,-818 265,-818 271,-818 277,-824 277,-830 277,-830 277,-889 277,-889 277,-895 271,-901 265,-901\"/>\n<text text-anchor=\"start\" x=\"126\" y=\"-885.8\" font-family=\"Helvetica,sans-Serif\" font-size=\"14.00\">petal length (cm) ≤ 2.45</text>\n<text text-anchor=\"start\" x=\"153.5\" y=\"-870.8\" font-family=\"Helvetica,sans-Serif\" font-size=\"14.00\">entropy = 1.58</text>\n<text text-anchor=\"start\" x=\"152.5\" y=\"-855.8\" font-family=\"Helvetica,sans-Serif\" font-size=\"14.00\">samples = 105</text>\n<text text-anchor=\"start\" x=\"139.5\" y=\"-840.8\" font-family=\"Helvetica,sans-Serif\" font-size=\"14.00\">value = [31, 37, 37]</text>\n<text text-anchor=\"start\" x=\"145\" y=\"-825.8\" font-family=\"Helvetica,sans-Serif\" font-size=\"14.00\">class = versicolor</text>\n</g>\n<!-- 1 -->\n<g id=\"node2\" class=\"node\">\n<title>1</title>\n<path fill=\"#e58139\" stroke=\"black\" d=\"M166,-774.5C166,-774.5 73,-774.5 73,-774.5 67,-774.5 61,-768.5 61,-762.5 61,-762.5 61,-718.5 61,-718.5 61,-712.5 67,-706.5 73,-706.5 73,-706.5 166,-706.5 166,-706.5 172,-706.5 178,-712.5 178,-718.5 178,-718.5 178,-762.5 178,-762.5 178,-768.5 172,-774.5 166,-774.5\"/>\n<text text-anchor=\"start\" x=\"79.5\" y=\"-759.3\" font-family=\"Helvetica,sans-Serif\" font-size=\"14.00\">entropy = 0.0</text>\n<text text-anchor=\"start\" x=\"78.5\" y=\"-744.3\" font-family=\"Helvetica,sans-Serif\" font-size=\"14.00\">samples = 31</text>\n<text text-anchor=\"start\" x=\"69\" y=\"-729.3\" font-family=\"Helvetica,sans-Serif\" font-size=\"14.00\">value = [31, 0, 0]</text>\n<text text-anchor=\"start\" x=\"76\" y=\"-714.3\" font-family=\"Helvetica,sans-Serif\" font-size=\"14.00\">class = setosa</text>\n</g>\n<!-- 0&#45;&gt;1 -->\n<g id=\"edge1\" class=\"edge\">\n<title>0&#45;&gt;1</title>\n<path fill=\"none\" stroke=\"black\" d=\"M170.44,-817.91C162.93,-806.65 154.78,-794.42 147.24,-783.11\"/>\n<polygon fill=\"black\" stroke=\"black\" points=\"150.07,-781.05 141.61,-774.67 144.25,-784.93 150.07,-781.05\"/>\n<text text-anchor=\"middle\" x=\"136.71\" y=\"-795.48\" font-family=\"Helvetica,sans-Serif\" font-size=\"14.00\">True</text>\n</g>\n<!-- 2 -->\n<g id=\"node3\" class=\"node\">\n<title>2</title>\n<path fill=\"#ffffff\" stroke=\"black\" d=\"M343,-782C343,-782 208,-782 208,-782 202,-782 196,-776 196,-770 196,-770 196,-711 196,-711 196,-705 202,-699 208,-699 208,-699 343,-699 343,-699 349,-699 355,-705 355,-711 355,-711 355,-770 355,-770 355,-776 349,-782 343,-782\"/>\n<text text-anchor=\"start\" x=\"204\" y=\"-766.8\" font-family=\"Helvetica,sans-Serif\" font-size=\"14.00\">petal length (cm) ≤ 4.75</text>\n<text text-anchor=\"start\" x=\"235.5\" y=\"-751.8\" font-family=\"Helvetica,sans-Serif\" font-size=\"14.00\">entropy = 1.0</text>\n<text text-anchor=\"start\" x=\"234.5\" y=\"-736.8\" font-family=\"Helvetica,sans-Serif\" font-size=\"14.00\">samples = 74</text>\n<text text-anchor=\"start\" x=\"221\" y=\"-721.8\" font-family=\"Helvetica,sans-Serif\" font-size=\"14.00\">value = [0, 37, 37]</text>\n<text text-anchor=\"start\" x=\"223\" y=\"-706.8\" font-family=\"Helvetica,sans-Serif\" font-size=\"14.00\">class = versicolor</text>\n</g>\n<!-- 0&#45;&gt;2 -->\n<g id=\"edge2\" class=\"edge\">\n<title>0&#45;&gt;2</title>\n<path fill=\"none\" stroke=\"black\" d=\"M224.56,-817.91C230.43,-809.1 236.7,-799.7 242.76,-790.61\"/>\n<polygon fill=\"black\" stroke=\"black\" points=\"245.85,-792.28 248.49,-782.02 240.03,-788.4 245.85,-792.28\"/>\n<text text-anchor=\"middle\" x=\"253.39\" y=\"-802.84\" font-family=\"Helvetica,sans-Serif\" font-size=\"14.00\">False</text>\n</g>\n<!-- 3 -->\n<g id=\"node4\" class=\"node\">\n<title>3</title>\n<path fill=\"#3fe685\" stroke=\"black\" d=\"M251.5,-663C251.5,-663 129.5,-663 129.5,-663 123.5,-663 117.5,-657 117.5,-651 117.5,-651 117.5,-592 117.5,-592 117.5,-586 123.5,-580 129.5,-580 129.5,-580 251.5,-580 251.5,-580 257.5,-580 263.5,-586 263.5,-592 263.5,-592 263.5,-651 263.5,-651 263.5,-657 257.5,-663 251.5,-663\"/>\n<text text-anchor=\"start\" x=\"125.5\" y=\"-647.8\" font-family=\"Helvetica,sans-Serif\" font-size=\"14.00\">petal width (cm) ≤ 1.6</text>\n<text text-anchor=\"start\" x=\"143\" y=\"-632.8\" font-family=\"Helvetica,sans-Serif\" font-size=\"14.00\">entropy = 0.196</text>\n<text text-anchor=\"start\" x=\"149.5\" y=\"-617.8\" font-family=\"Helvetica,sans-Serif\" font-size=\"14.00\">samples = 33</text>\n<text text-anchor=\"start\" x=\"140\" y=\"-602.8\" font-family=\"Helvetica,sans-Serif\" font-size=\"14.00\">value = [0, 32, 1]</text>\n<text text-anchor=\"start\" x=\"138\" y=\"-587.8\" font-family=\"Helvetica,sans-Serif\" font-size=\"14.00\">class = versicolor</text>\n</g>\n<!-- 2&#45;&gt;3 -->\n<g id=\"edge3\" class=\"edge\">\n<title>2&#45;&gt;3</title>\n<path fill=\"none\" stroke=\"black\" d=\"M246.01,-698.91C239.55,-690.01 232.64,-680.51 225.98,-671.33\"/>\n<polygon fill=\"black\" stroke=\"black\" points=\"228.65,-669.05 219.94,-663.02 222.98,-673.17 228.65,-669.05\"/>\n</g>\n<!-- 6 -->\n<g id=\"node7\" class=\"node\">\n<title>6</title>\n<path fill=\"#9254e9\" stroke=\"black\" d=\"M429,-663C429,-663 294,-663 294,-663 288,-663 282,-657 282,-651 282,-651 282,-592 282,-592 282,-586 288,-580 294,-580 294,-580 429,-580 429,-580 435,-580 441,-586 441,-592 441,-592 441,-651 441,-651 441,-657 435,-663 429,-663\"/>\n<text text-anchor=\"start\" x=\"290\" y=\"-647.8\" font-family=\"Helvetica,sans-Serif\" font-size=\"14.00\">petal length (cm) ≤ 5.15</text>\n<text text-anchor=\"start\" x=\"314\" y=\"-632.8\" font-family=\"Helvetica,sans-Serif\" font-size=\"14.00\">entropy = 0.535</text>\n<text text-anchor=\"start\" x=\"320.5\" y=\"-617.8\" font-family=\"Helvetica,sans-Serif\" font-size=\"14.00\">samples = 41</text>\n<text text-anchor=\"start\" x=\"311\" y=\"-602.8\" font-family=\"Helvetica,sans-Serif\" font-size=\"14.00\">value = [0, 5, 36]</text>\n<text text-anchor=\"start\" x=\"313\" y=\"-587.8\" font-family=\"Helvetica,sans-Serif\" font-size=\"14.00\">class = virginica</text>\n</g>\n<!-- 2&#45;&gt;6 -->\n<g id=\"edge6\" class=\"edge\">\n<title>2&#45;&gt;6</title>\n<path fill=\"none\" stroke=\"black\" d=\"M305.34,-698.91C311.87,-690.01 318.86,-680.51 325.61,-671.33\"/>\n<polygon fill=\"black\" stroke=\"black\" points=\"328.61,-673.15 331.72,-663.02 322.97,-669.01 328.61,-673.15\"/>\n</g>\n<!-- 4 -->\n<g id=\"node5\" class=\"node\">\n<title>4</title>\n<path fill=\"#39e581\" stroke=\"black\" d=\"M109,-536.5C109,-536.5 12,-536.5 12,-536.5 6,-536.5 0,-530.5 0,-524.5 0,-524.5 0,-480.5 0,-480.5 0,-474.5 6,-468.5 12,-468.5 12,-468.5 109,-468.5 109,-468.5 115,-468.5 121,-474.5 121,-480.5 121,-480.5 121,-524.5 121,-524.5 121,-530.5 115,-536.5 109,-536.5\"/>\n<text text-anchor=\"start\" x=\"20.5\" y=\"-521.3\" font-family=\"Helvetica,sans-Serif\" font-size=\"14.00\">entropy = 0.0</text>\n<text text-anchor=\"start\" x=\"19.5\" y=\"-506.3\" font-family=\"Helvetica,sans-Serif\" font-size=\"14.00\">samples = 32</text>\n<text text-anchor=\"start\" x=\"10\" y=\"-491.3\" font-family=\"Helvetica,sans-Serif\" font-size=\"14.00\">value = [0, 32, 0]</text>\n<text text-anchor=\"start\" x=\"8\" y=\"-476.3\" font-family=\"Helvetica,sans-Serif\" font-size=\"14.00\">class = versicolor</text>\n</g>\n<!-- 3&#45;&gt;4 -->\n<g id=\"edge4\" class=\"edge\">\n<title>3&#45;&gt;4</title>\n<path fill=\"none\" stroke=\"black\" d=\"M145.4,-579.91C132.28,-568.1 117.96,-555.22 104.89,-543.45\"/>\n<polygon fill=\"black\" stroke=\"black\" points=\"107.13,-540.76 97.35,-536.67 102.44,-545.96 107.13,-540.76\"/>\n</g>\n<!-- 5 -->\n<g id=\"node6\" class=\"node\">\n<title>5</title>\n<path fill=\"#8139e5\" stroke=\"black\" d=\"M240,-536.5C240,-536.5 151,-536.5 151,-536.5 145,-536.5 139,-530.5 139,-524.5 139,-524.5 139,-480.5 139,-480.5 139,-474.5 145,-468.5 151,-468.5 151,-468.5 240,-468.5 240,-468.5 246,-468.5 252,-474.5 252,-480.5 252,-480.5 252,-524.5 252,-524.5 252,-530.5 246,-536.5 240,-536.5\"/>\n<text text-anchor=\"start\" x=\"155.5\" y=\"-521.3\" font-family=\"Helvetica,sans-Serif\" font-size=\"14.00\">entropy = 0.0</text>\n<text text-anchor=\"start\" x=\"158\" y=\"-506.3\" font-family=\"Helvetica,sans-Serif\" font-size=\"14.00\">samples = 1</text>\n<text text-anchor=\"start\" x=\"148.5\" y=\"-491.3\" font-family=\"Helvetica,sans-Serif\" font-size=\"14.00\">value = [0, 0, 1]</text>\n<text text-anchor=\"start\" x=\"147\" y=\"-476.3\" font-family=\"Helvetica,sans-Serif\" font-size=\"14.00\">class = virginica</text>\n</g>\n<!-- 3&#45;&gt;5 -->\n<g id=\"edge5\" class=\"edge\">\n<title>3&#45;&gt;5</title>\n<path fill=\"none\" stroke=\"black\" d=\"M192.23,-579.91C192.69,-569.2 193.19,-557.62 193.65,-546.78\"/>\n<polygon fill=\"black\" stroke=\"black\" points=\"197.15,-546.81 194.08,-536.67 190.16,-546.51 197.15,-546.81\"/>\n</g>\n<!-- 7 -->\n<g id=\"node8\" class=\"node\">\n<title>7</title>\n<path fill=\"#c09cf2\" stroke=\"black\" d=\"M421.5,-544C421.5,-544 291.5,-544 291.5,-544 285.5,-544 279.5,-538 279.5,-532 279.5,-532 279.5,-473 279.5,-473 279.5,-467 285.5,-461 291.5,-461 291.5,-461 421.5,-461 421.5,-461 427.5,-461 433.5,-467 433.5,-473 433.5,-473 433.5,-532 433.5,-532 433.5,-538 427.5,-544 421.5,-544\"/>\n<text text-anchor=\"start\" x=\"287.5\" y=\"-528.8\" font-family=\"Helvetica,sans-Serif\" font-size=\"14.00\">petal width (cm) ≤ 1.75</text>\n<text text-anchor=\"start\" x=\"309\" y=\"-513.8\" font-family=\"Helvetica,sans-Serif\" font-size=\"14.00\">entropy = 0.918</text>\n<text text-anchor=\"start\" x=\"315.5\" y=\"-498.8\" font-family=\"Helvetica,sans-Serif\" font-size=\"14.00\">samples = 15</text>\n<text text-anchor=\"start\" x=\"306\" y=\"-483.8\" font-family=\"Helvetica,sans-Serif\" font-size=\"14.00\">value = [0, 5, 10]</text>\n<text text-anchor=\"start\" x=\"308\" y=\"-468.8\" font-family=\"Helvetica,sans-Serif\" font-size=\"14.00\">class = virginica</text>\n</g>\n<!-- 6&#45;&gt;7 -->\n<g id=\"edge7\" class=\"edge\">\n<title>6&#45;&gt;7</title>\n<path fill=\"none\" stroke=\"black\" d=\"M359.77,-579.91C359.41,-571.56 359.03,-562.67 358.66,-554.02\"/>\n<polygon fill=\"black\" stroke=\"black\" points=\"362.16,-553.86 358.23,-544.02 355.16,-554.16 362.16,-553.86\"/>\n</g>\n<!-- 18 -->\n<g id=\"node19\" class=\"node\">\n<title>18</title>\n<path fill=\"#8139e5\" stroke=\"black\" d=\"M557,-536.5C557,-536.5 464,-536.5 464,-536.5 458,-536.5 452,-530.5 452,-524.5 452,-524.5 452,-480.5 452,-480.5 452,-474.5 458,-468.5 464,-468.5 464,-468.5 557,-468.5 557,-468.5 563,-468.5 569,-474.5 569,-480.5 569,-480.5 569,-524.5 569,-524.5 569,-530.5 563,-536.5 557,-536.5\"/>\n<text text-anchor=\"start\" x=\"470.5\" y=\"-521.3\" font-family=\"Helvetica,sans-Serif\" font-size=\"14.00\">entropy = 0.0</text>\n<text text-anchor=\"start\" x=\"469.5\" y=\"-506.3\" font-family=\"Helvetica,sans-Serif\" font-size=\"14.00\">samples = 26</text>\n<text text-anchor=\"start\" x=\"460\" y=\"-491.3\" font-family=\"Helvetica,sans-Serif\" font-size=\"14.00\">value = [0, 0, 26]</text>\n<text text-anchor=\"start\" x=\"462\" y=\"-476.3\" font-family=\"Helvetica,sans-Serif\" font-size=\"14.00\">class = virginica</text>\n</g>\n<!-- 6&#45;&gt;18 -->\n<g id=\"edge18\" class=\"edge\">\n<title>6&#45;&gt;18</title>\n<path fill=\"none\" stroke=\"black\" d=\"M413.19,-579.91C428.37,-567.99 444.95,-554.98 460.04,-543.12\"/>\n<polygon fill=\"black\" stroke=\"black\" points=\"462.56,-545.6 468.26,-536.67 458.24,-540.09 462.56,-545.6\"/>\n</g>\n<!-- 8 -->\n<g id=\"node9\" class=\"node\">\n<title>8</title>\n<path fill=\"#9cf2c0\" stroke=\"black\" d=\"M338,-425C338,-425 205,-425 205,-425 199,-425 193,-419 193,-413 193,-413 193,-354 193,-354 193,-348 199,-342 205,-342 205,-342 338,-342 338,-342 344,-342 350,-348 350,-354 350,-354 350,-413 350,-413 350,-419 344,-425 338,-425\"/>\n<text text-anchor=\"start\" x=\"201\" y=\"-409.8\" font-family=\"Helvetica,sans-Serif\" font-size=\"14.00\">sepal width (cm) ≤ 2.35</text>\n<text text-anchor=\"start\" x=\"224\" y=\"-394.8\" font-family=\"Helvetica,sans-Serif\" font-size=\"14.00\">entropy = 0.918</text>\n<text text-anchor=\"start\" x=\"234\" y=\"-379.8\" font-family=\"Helvetica,sans-Serif\" font-size=\"14.00\">samples = 6</text>\n<text text-anchor=\"start\" x=\"224.5\" y=\"-364.8\" font-family=\"Helvetica,sans-Serif\" font-size=\"14.00\">value = [0, 4, 2]</text>\n<text text-anchor=\"start\" x=\"219\" y=\"-349.8\" font-family=\"Helvetica,sans-Serif\" font-size=\"14.00\">class = versicolor</text>\n</g>\n<!-- 7&#45;&gt;8 -->\n<g id=\"edge8\" class=\"edge\">\n<title>7&#45;&gt;8</title>\n<path fill=\"none\" stroke=\"black\" d=\"M327.01,-460.91C320.55,-452.01 313.64,-442.51 306.98,-433.33\"/>\n<polygon fill=\"black\" stroke=\"black\" points=\"309.65,-431.05 300.94,-425.02 303.98,-435.17 309.65,-431.05\"/>\n</g>\n<!-- 15 -->\n<g id=\"node16\" class=\"node\">\n<title>15</title>\n<path fill=\"#9152e8\" stroke=\"black\" d=\"M505,-425C505,-425 380,-425 380,-425 374,-425 368,-419 368,-413 368,-413 368,-354 368,-354 368,-348 374,-342 380,-342 380,-342 505,-342 505,-342 511,-342 517,-348 517,-354 517,-354 517,-413 517,-413 517,-419 511,-425 505,-425\"/>\n<text text-anchor=\"start\" x=\"376\" y=\"-409.8\" font-family=\"Helvetica,sans-Serif\" font-size=\"14.00\">sepal width (cm) ≤ 3.1</text>\n<text text-anchor=\"start\" x=\"395\" y=\"-394.8\" font-family=\"Helvetica,sans-Serif\" font-size=\"14.00\">entropy = 0.503</text>\n<text text-anchor=\"start\" x=\"405\" y=\"-379.8\" font-family=\"Helvetica,sans-Serif\" font-size=\"14.00\">samples = 9</text>\n<text text-anchor=\"start\" x=\"395.5\" y=\"-364.8\" font-family=\"Helvetica,sans-Serif\" font-size=\"14.00\">value = [0, 1, 8]</text>\n<text text-anchor=\"start\" x=\"394\" y=\"-349.8\" font-family=\"Helvetica,sans-Serif\" font-size=\"14.00\">class = virginica</text>\n</g>\n<!-- 7&#45;&gt;15 -->\n<g id=\"edge15\" class=\"edge\">\n<title>7&#45;&gt;15</title>\n<path fill=\"none\" stroke=\"black\" d=\"M386.34,-460.91C392.87,-452.01 399.86,-442.51 406.61,-433.33\"/>\n<polygon fill=\"black\" stroke=\"black\" points=\"409.61,-435.15 412.72,-425.02 403.97,-431.01 409.61,-435.15\"/>\n</g>\n<!-- 9 -->\n<g id=\"node10\" class=\"node\">\n<title>9</title>\n<path fill=\"#8139e5\" stroke=\"black\" d=\"M167,-298.5C167,-298.5 78,-298.5 78,-298.5 72,-298.5 66,-292.5 66,-286.5 66,-286.5 66,-242.5 66,-242.5 66,-236.5 72,-230.5 78,-230.5 78,-230.5 167,-230.5 167,-230.5 173,-230.5 179,-236.5 179,-242.5 179,-242.5 179,-286.5 179,-286.5 179,-292.5 173,-298.5 167,-298.5\"/>\n<text text-anchor=\"start\" x=\"82.5\" y=\"-283.3\" font-family=\"Helvetica,sans-Serif\" font-size=\"14.00\">entropy = 0.0</text>\n<text text-anchor=\"start\" x=\"85\" y=\"-268.3\" font-family=\"Helvetica,sans-Serif\" font-size=\"14.00\">samples = 1</text>\n<text text-anchor=\"start\" x=\"75.5\" y=\"-253.3\" font-family=\"Helvetica,sans-Serif\" font-size=\"14.00\">value = [0, 0, 1]</text>\n<text text-anchor=\"start\" x=\"74\" y=\"-238.3\" font-family=\"Helvetica,sans-Serif\" font-size=\"14.00\">class = virginica</text>\n</g>\n<!-- 8&#45;&gt;9 -->\n<g id=\"edge9\" class=\"edge\">\n<title>8&#45;&gt;9</title>\n<path fill=\"none\" stroke=\"black\" d=\"M219.81,-341.91C204.63,-329.99 188.05,-316.98 172.96,-305.12\"/>\n<polygon fill=\"black\" stroke=\"black\" points=\"174.76,-302.09 164.74,-298.67 170.44,-307.6 174.76,-302.09\"/>\n</g>\n<!-- 10 -->\n<g id=\"node11\" class=\"node\">\n<title>10</title>\n<path fill=\"#6aeca0\" stroke=\"black\" d=\"M344,-306C344,-306 209,-306 209,-306 203,-306 197,-300 197,-294 197,-294 197,-235 197,-235 197,-229 203,-223 209,-223 209,-223 344,-223 344,-223 350,-223 356,-229 356,-235 356,-235 356,-294 356,-294 356,-300 350,-306 344,-306\"/>\n<text text-anchor=\"start\" x=\"205\" y=\"-290.8\" font-family=\"Helvetica,sans-Serif\" font-size=\"14.00\">petal length (cm) ≤ 5.05</text>\n<text text-anchor=\"start\" x=\"229\" y=\"-275.8\" font-family=\"Helvetica,sans-Serif\" font-size=\"14.00\">entropy = 0.722</text>\n<text text-anchor=\"start\" x=\"239\" y=\"-260.8\" font-family=\"Helvetica,sans-Serif\" font-size=\"14.00\">samples = 5</text>\n<text text-anchor=\"start\" x=\"229.5\" y=\"-245.8\" font-family=\"Helvetica,sans-Serif\" font-size=\"14.00\">value = [0, 4, 1]</text>\n<text text-anchor=\"start\" x=\"224\" y=\"-230.8\" font-family=\"Helvetica,sans-Serif\" font-size=\"14.00\">class = versicolor</text>\n</g>\n<!-- 8&#45;&gt;10 -->\n<g id=\"edge10\" class=\"edge\">\n<title>8&#45;&gt;10</title>\n<path fill=\"none\" stroke=\"black\" d=\"M273.23,-341.91C273.59,-333.56 273.97,-324.67 274.34,-316.02\"/>\n<polygon fill=\"black\" stroke=\"black\" points=\"277.84,-316.16 274.77,-306.02 270.84,-315.86 277.84,-316.16\"/>\n</g>\n<!-- 11 -->\n<g id=\"node12\" class=\"node\">\n<title>11</title>\n<path fill=\"#39e581\" stroke=\"black\" d=\"M245,-179.5C245,-179.5 148,-179.5 148,-179.5 142,-179.5 136,-173.5 136,-167.5 136,-167.5 136,-123.5 136,-123.5 136,-117.5 142,-111.5 148,-111.5 148,-111.5 245,-111.5 245,-111.5 251,-111.5 257,-117.5 257,-123.5 257,-123.5 257,-167.5 257,-167.5 257,-173.5 251,-179.5 245,-179.5\"/>\n<text text-anchor=\"start\" x=\"156.5\" y=\"-164.3\" font-family=\"Helvetica,sans-Serif\" font-size=\"14.00\">entropy = 0.0</text>\n<text text-anchor=\"start\" x=\"159\" y=\"-149.3\" font-family=\"Helvetica,sans-Serif\" font-size=\"14.00\">samples = 3</text>\n<text text-anchor=\"start\" x=\"149.5\" y=\"-134.3\" font-family=\"Helvetica,sans-Serif\" font-size=\"14.00\">value = [0, 3, 0]</text>\n<text text-anchor=\"start\" x=\"144\" y=\"-119.3\" font-family=\"Helvetica,sans-Serif\" font-size=\"14.00\">class = versicolor</text>\n</g>\n<!-- 10&#45;&gt;11 -->\n<g id=\"edge11\" class=\"edge\">\n<title>10&#45;&gt;11</title>\n<path fill=\"none\" stroke=\"black\" d=\"M248.74,-222.91C241.05,-211.65 232.68,-199.42 224.95,-188.11\"/>\n<polygon fill=\"black\" stroke=\"black\" points=\"227.71,-185.95 219.18,-179.67 221.93,-189.9 227.71,-185.95\"/>\n</g>\n<!-- 12 -->\n<g id=\"node13\" class=\"node\">\n<title>12</title>\n<path fill=\"#ffffff\" stroke=\"black\" d=\"M425.5,-187C425.5,-187 287.5,-187 287.5,-187 281.5,-187 275.5,-181 275.5,-175 275.5,-175 275.5,-116 275.5,-116 275.5,-110 281.5,-104 287.5,-104 287.5,-104 425.5,-104 425.5,-104 431.5,-104 437.5,-110 437.5,-116 437.5,-116 437.5,-175 437.5,-175 437.5,-181 431.5,-187 425.5,-187\"/>\n<text text-anchor=\"start\" x=\"283.5\" y=\"-171.8\" font-family=\"Helvetica,sans-Serif\" font-size=\"14.00\">sepal length (cm) ≤ 6.15</text>\n<text text-anchor=\"start\" x=\"316.5\" y=\"-156.8\" font-family=\"Helvetica,sans-Serif\" font-size=\"14.00\">entropy = 1.0</text>\n<text text-anchor=\"start\" x=\"319\" y=\"-141.8\" font-family=\"Helvetica,sans-Serif\" font-size=\"14.00\">samples = 2</text>\n<text text-anchor=\"start\" x=\"309.5\" y=\"-126.8\" font-family=\"Helvetica,sans-Serif\" font-size=\"14.00\">value = [0, 1, 1]</text>\n<text text-anchor=\"start\" x=\"304\" y=\"-111.8\" font-family=\"Helvetica,sans-Serif\" font-size=\"14.00\">class = versicolor</text>\n</g>\n<!-- 10&#45;&gt;12 -->\n<g id=\"edge12\" class=\"edge\">\n<title>10&#45;&gt;12</title>\n<path fill=\"none\" stroke=\"black\" d=\"M304.26,-222.91C310.34,-214.01 316.84,-204.51 323.11,-195.33\"/>\n<polygon fill=\"black\" stroke=\"black\" points=\"326.04,-197.25 328.79,-187.02 320.26,-193.3 326.04,-197.25\"/>\n</g>\n<!-- 13 -->\n<g id=\"node14\" class=\"node\">\n<title>13</title>\n<path fill=\"#39e581\" stroke=\"black\" d=\"M337,-68C337,-68 240,-68 240,-68 234,-68 228,-62 228,-56 228,-56 228,-12 228,-12 228,-6 234,0 240,0 240,0 337,0 337,0 343,0 349,-6 349,-12 349,-12 349,-56 349,-56 349,-62 343,-68 337,-68\"/>\n<text text-anchor=\"start\" x=\"248.5\" y=\"-52.8\" font-family=\"Helvetica,sans-Serif\" font-size=\"14.00\">entropy = 0.0</text>\n<text text-anchor=\"start\" x=\"251\" y=\"-37.8\" font-family=\"Helvetica,sans-Serif\" font-size=\"14.00\">samples = 1</text>\n<text text-anchor=\"start\" x=\"241.5\" y=\"-22.8\" font-family=\"Helvetica,sans-Serif\" font-size=\"14.00\">value = [0, 1, 0]</text>\n<text text-anchor=\"start\" x=\"236\" y=\"-7.8\" font-family=\"Helvetica,sans-Serif\" font-size=\"14.00\">class = versicolor</text>\n</g>\n<!-- 12&#45;&gt;13 -->\n<g id=\"edge13\" class=\"edge\">\n<title>12&#45;&gt;13</title>\n<path fill=\"none\" stroke=\"black\" d=\"M331.18,-103.73C325.74,-94.97 319.99,-85.7 314.52,-76.91\"/>\n<polygon fill=\"black\" stroke=\"black\" points=\"317.43,-74.95 309.18,-68.3 311.48,-78.64 317.43,-74.95\"/>\n</g>\n<!-- 14 -->\n<g id=\"node15\" class=\"node\">\n<title>14</title>\n<path fill=\"#8139e5\" stroke=\"black\" d=\"M468,-68C468,-68 379,-68 379,-68 373,-68 367,-62 367,-56 367,-56 367,-12 367,-12 367,-6 373,0 379,0 379,0 468,0 468,0 474,0 480,-6 480,-12 480,-12 480,-56 480,-56 480,-62 474,-68 468,-68\"/>\n<text text-anchor=\"start\" x=\"383.5\" y=\"-52.8\" font-family=\"Helvetica,sans-Serif\" font-size=\"14.00\">entropy = 0.0</text>\n<text text-anchor=\"start\" x=\"386\" y=\"-37.8\" font-family=\"Helvetica,sans-Serif\" font-size=\"14.00\">samples = 1</text>\n<text text-anchor=\"start\" x=\"376.5\" y=\"-22.8\" font-family=\"Helvetica,sans-Serif\" font-size=\"14.00\">value = [0, 0, 1]</text>\n<text text-anchor=\"start\" x=\"375\" y=\"-7.8\" font-family=\"Helvetica,sans-Serif\" font-size=\"14.00\">class = virginica</text>\n</g>\n<!-- 12&#45;&gt;14 -->\n<g id=\"edge14\" class=\"edge\">\n<title>12&#45;&gt;14</title>\n<path fill=\"none\" stroke=\"black\" d=\"M381.45,-103.73C386.81,-94.97 392.48,-85.7 397.86,-76.91\"/>\n<polygon fill=\"black\" stroke=\"black\" points=\"400.89,-78.66 403.12,-68.3 394.92,-75 400.89,-78.66\"/>\n</g>\n<!-- 16 -->\n<g id=\"node17\" class=\"node\">\n<title>16</title>\n<path fill=\"#8139e5\" stroke=\"black\" d=\"M483,-298.5C483,-298.5 394,-298.5 394,-298.5 388,-298.5 382,-292.5 382,-286.5 382,-286.5 382,-242.5 382,-242.5 382,-236.5 388,-230.5 394,-230.5 394,-230.5 483,-230.5 483,-230.5 489,-230.5 495,-236.5 495,-242.5 495,-242.5 495,-286.5 495,-286.5 495,-292.5 489,-298.5 483,-298.5\"/>\n<text text-anchor=\"start\" x=\"398.5\" y=\"-283.3\" font-family=\"Helvetica,sans-Serif\" font-size=\"14.00\">entropy = 0.0</text>\n<text text-anchor=\"start\" x=\"401\" y=\"-268.3\" font-family=\"Helvetica,sans-Serif\" font-size=\"14.00\">samples = 8</text>\n<text text-anchor=\"start\" x=\"391.5\" y=\"-253.3\" font-family=\"Helvetica,sans-Serif\" font-size=\"14.00\">value = [0, 0, 8]</text>\n<text text-anchor=\"start\" x=\"390\" y=\"-238.3\" font-family=\"Helvetica,sans-Serif\" font-size=\"14.00\">class = virginica</text>\n</g>\n<!-- 15&#45;&gt;16 -->\n<g id=\"edge16\" class=\"edge\">\n<title>15&#45;&gt;16</title>\n<path fill=\"none\" stroke=\"black\" d=\"M441.11,-341.91C440.75,-331.2 440.35,-319.62 439.98,-308.78\"/>\n<polygon fill=\"black\" stroke=\"black\" points=\"443.47,-308.54 439.63,-298.67 436.48,-308.78 443.47,-308.54\"/>\n</g>\n<!-- 17 -->\n<g id=\"node18\" class=\"node\">\n<title>17</title>\n<path fill=\"#39e581\" stroke=\"black\" d=\"M622,-298.5C622,-298.5 525,-298.5 525,-298.5 519,-298.5 513,-292.5 513,-286.5 513,-286.5 513,-242.5 513,-242.5 513,-236.5 519,-230.5 525,-230.5 525,-230.5 622,-230.5 622,-230.5 628,-230.5 634,-236.5 634,-242.5 634,-242.5 634,-286.5 634,-286.5 634,-292.5 628,-298.5 622,-298.5\"/>\n<text text-anchor=\"start\" x=\"533.5\" y=\"-283.3\" font-family=\"Helvetica,sans-Serif\" font-size=\"14.00\">entropy = 0.0</text>\n<text text-anchor=\"start\" x=\"536\" y=\"-268.3\" font-family=\"Helvetica,sans-Serif\" font-size=\"14.00\">samples = 1</text>\n<text text-anchor=\"start\" x=\"526.5\" y=\"-253.3\" font-family=\"Helvetica,sans-Serif\" font-size=\"14.00\">value = [0, 1, 0]</text>\n<text text-anchor=\"start\" x=\"521\" y=\"-238.3\" font-family=\"Helvetica,sans-Serif\" font-size=\"14.00\">class = versicolor</text>\n</g>\n<!-- 15&#45;&gt;17 -->\n<g id=\"edge17\" class=\"edge\">\n<title>15&#45;&gt;17</title>\n<path fill=\"none\" stroke=\"black\" d=\"M487.95,-341.91C501.17,-330.1 515.6,-317.22 528.77,-305.45\"/>\n<polygon fill=\"black\" stroke=\"black\" points=\"531.24,-307.94 536.36,-298.67 526.57,-302.72 531.24,-307.94\"/>\n</g>\n</g>\n</svg>\n",
            "text/plain": [
              "<graphviz.sources.Source at 0x78711d395d50>"
            ]
          },
          "metadata": {}
        }
      ]
    },
    {
      "cell_type": "code",
      "source": [
        "21. # Write a Python program to train a Decision Tree Classifier with a maximum depth of 3 and compare its\n",
        "# accuracy with a fully grown tree\n",
        "\n",
        "# Train a Decision Tree Classifier with max_depth=3\n",
        "clf_limited_depth = DecisionTreeClassifier(max_depth=3, random_state=42)\n",
        "clf_limited_depth.fit(X_train, y_train)\n",
        "y_pred_limited_depth = clf_limited_depth.predict(X_test)\n",
        "accuracy_limited_depth = accuracy_score(y_test, y_pred_limited_depth)\n",
        "print(\"Accuracy (Max Depth 3):\", accuracy_limited_depth)\n",
        "\n",
        "# Train a fully grown Decision Tree Classifier (default max_depth=None)\n",
        "clf_full_depth = DecisionTreeClassifier(random_state=42)\n",
        "clf_full_depth.fit(X_train, y_train)\n",
        "y_pred_full_depth = clf_full_depth.predict(X_test)\n",
        "accuracy_full_depth = accuracy_score(y_test, y_pred_full_depth)\n",
        "print(\"Accuracy (Full Depth):\", accuracy_full_depth)\n",
        "\n",
        "# Compare the accuracies\n",
        "print(\"\\nComparison:\")\n",
        "print(f\"Accuracy with max_depth=3: {accuracy_limited_depth:.4f}\")\n",
        "print(f\"Accuracy with full depth: {accuracy_full_depth:.4f}\")\n",
        "\n",
        "if accuracy_full_depth > accuracy_limited_depth:\n",
        "    print(\"The fully grown tree has higher accuracy on the test set.\")\n",
        "elif accuracy_limited_depth > accuracy_full_depth:\n",
        "    print(\"The tree with max_depth=3 has higher accuracy on the test set.\")\n",
        "else:\n",
        "    print(\"Both trees have the same accuracy on the test set.\")"
      ],
      "metadata": {
        "colab": {
          "base_uri": "https://localhost:8080/"
        },
        "id": "nw65P7zyF2Z2",
        "outputId": "e51c6464-abbc-482c-e072-49fd4261cc3a"
      },
      "execution_count": 8,
      "outputs": [
        {
          "output_type": "stream",
          "name": "stdout",
          "text": [
            "Accuracy (Max Depth 3): 1.0\n",
            "Accuracy (Full Depth): 1.0\n",
            "\n",
            "Comparison:\n",
            "Accuracy with max_depth=3: 1.0000\n",
            "Accuracy with full depth: 1.0000\n",
            "Both trees have the same accuracy on the test set.\n"
          ]
        }
      ]
    },
    {
      "cell_type": "code",
      "source": [
        "22. #Write a Python program to train a Decision Tree Classifier using min_samples_split=5 and compare its\n",
        "# accuracy with a default tree\n",
        "\n",
        "# Write a Python program to train a Decision Tree Classifier using min_samples_split=5 and compare its\n",
        "# accuracy with a default tree\n",
        "\n",
        "# Train a Decision Tree Classifier with min_samples_split=5\n",
        "clf_min_samples_split = DecisionTreeClassifier(min_samples_split=5, random_state=42)\n",
        "clf_min_samples_split.fit(X_train, y_train)\n",
        "y_pred_min_samples_split = clf_min_samples_split.predict(X_test)\n",
        "accuracy_min_samples_split = accuracy_score(y_test, y_pred_min_samples_split)\n",
        "print(\"Accuracy (min_samples_split=5):\", accuracy_min_samples_split)\n",
        "\n",
        "# Train a default Decision Tree Classifier\n",
        "# A default tree in scikit-learn has min_samples_split=2\n",
        "clf_default = DecisionTreeClassifier(random_state=42) # Default min_samples_split is 2\n",
        "clf_default.fit(X_train, y_train)\n",
        "y_pred_default = clf_default.predict(X_test)\n",
        "accuracy_default = accuracy_score(y_test, y_pred_default)\n",
        "print(\"Accuracy (Default Tree):\", accuracy_default)\n",
        "\n",
        "# Compare the accuracies\n",
        "print(\"\\nComparison:\")\n",
        "print(f\"Accuracy with min_samples_split=5: {accuracy_min_samples_split:.4f}\")\n",
        "print(f\"Accuracy with default tree: {accuracy_default:.4f}\")\n",
        "\n",
        "if accuracy_default > accuracy_min_samples_split:\n",
        "    print(\"The default tree has higher accuracy on the test set.\")\n",
        "elif accuracy_min_samples_split > accuracy_default:\n",
        "    print(\"The tree with min_samples_split=5 has higher accuracy on the test set.\")\n",
        "else:\n",
        "    print(\"Both trees have the same accuracy on the test set.\")"
      ],
      "metadata": {
        "colab": {
          "base_uri": "https://localhost:8080/"
        },
        "id": "LNd2QeZTGDKk",
        "outputId": "0f43d22a-6a2c-4d6a-9198-6a1ae7eceb1e"
      },
      "execution_count": 9,
      "outputs": [
        {
          "output_type": "stream",
          "name": "stdout",
          "text": [
            "Accuracy (min_samples_split=5): 1.0\n",
            "Accuracy (Default Tree): 1.0\n",
            "\n",
            "Comparison:\n",
            "Accuracy with min_samples_split=5: 1.0000\n",
            "Accuracy with default tree: 1.0000\n",
            "Both trees have the same accuracy on the test set.\n"
          ]
        }
      ]
    },
    {
      "cell_type": "code",
      "source": [
        "23. #Write a Python program to apply feature scaling before training a Decision Tree Classifier and compare its\n",
        "# accuracy with unscaled data\n",
        "\n",
        "from sklearn.preprocessing import StandardScaler\n",
        "\n",
        "# Scale the features\n",
        "scaler = StandardScaler()\n",
        "X_train_scaled = scaler.fit_transform(X_train)\n",
        "X_test_scaled = scaler.transform(X_test)\n",
        "\n",
        "# Train a Decision Tree Classifier on scaled data\n",
        "clf_scaled = DecisionTreeClassifier(random_state=42)\n",
        "clf_scaled.fit(X_train_scaled, y_train)\n",
        "y_pred_scaled = clf_scaled.predict(X_test_scaled)\n",
        "accuracy_scaled = accuracy_score(y_test, y_pred_scaled)\n",
        "print(\"Accuracy (Scaled Data):\", accuracy_scaled)\n",
        "\n",
        "# Train a Decision Tree Classifier on unscaled data (already done in previous cells, but doing it here for direct comparison)\n",
        "clf_unscaled = DecisionTreeClassifier(random_state=42)\n",
        "clf_unscaled.fit(X_train, y_train)\n",
        "y_pred_unscaled = clf_unscaled.predict(X_test)\n",
        "accuracy_unscaled = accuracy_score(y_test, y_pred_unscaled)\n",
        "print(\"Accuracy (Unscaled Data):\", accuracy_unscaled)\n",
        "\n",
        "# Compare the accuracies\n",
        "print(\"\\nComparison:\")\n",
        "print(f\"Accuracy with scaled data: {accuracy_scaled:.4f}\")\n",
        "print(f\"Accuracy with unscaled data: {accuracy_unscaled:.4f}\")\n",
        "\n",
        "# Explain why feature scaling might not significantly impact Decision Trees (or might, depending on the dataset)\n",
        "print(\"\\nObservation:\")\n",
        "print(\"Feature scaling generally has little to no impact on the performance of Decision Trees.\")\n",
        "print(\"This is because Decision Trees are non-parametric models that make decisions based on thresholds of individual features,\")\n",
        "print(\"not on the distances or magnitudes between data points.\")\n",
        "print(\"Splitting criteria (like Gini impurity or entropy) are based on the proportions of classes within a node,\")\n",
        "print(\"which are not affected by the scaling of the features.\")\n",
        "print(\"The threshold for a split will simply adjust to the new scale of the feature.\")\n",
        "print(\"However, for ensemble methods based on Decision Trees (like some boosting algorithms that use gradient descent),\")\n",
        "print(\"scaling *might* have an indirect effect on convergence speed.\")\n"
      ],
      "metadata": {
        "colab": {
          "base_uri": "https://localhost:8080/"
        },
        "id": "YSluzX00GP3D",
        "outputId": "b2b018e6-c2ba-4f8a-f384-31082e850557"
      },
      "execution_count": 10,
      "outputs": [
        {
          "output_type": "stream",
          "name": "stdout",
          "text": [
            "Accuracy (Scaled Data): 1.0\n",
            "Accuracy (Unscaled Data): 1.0\n",
            "\n",
            "Comparison:\n",
            "Accuracy with scaled data: 1.0000\n",
            "Accuracy with unscaled data: 1.0000\n",
            "\n",
            "Observation:\n",
            "Feature scaling generally has little to no impact on the performance of Decision Trees.\n",
            "This is because Decision Trees are non-parametric models that make decisions based on thresholds of individual features,\n",
            "not on the distances or magnitudes between data points.\n",
            "Splitting criteria (like Gini impurity or entropy) are based on the proportions of classes within a node,\n",
            "which are not affected by the scaling of the features.\n",
            "The threshold for a split will simply adjust to the new scale of the feature.\n",
            "However, for ensemble methods based on Decision Trees (like some boosting algorithms that use gradient descent),\n",
            "scaling *might* have an indirect effect on convergence speed.\n"
          ]
        }
      ]
    },
    {
      "cell_type": "code",
      "source": [
        "24. #Write a Python program to train a Decision Tree Classifier using One-vs-Rest (OvR) strategy for multiclass\n",
        "# classification\n",
        "\n",
        "from sklearn.multiclass import OneVsRestClassifier\n",
        "\n",
        "# Create a One-vs-Rest Classifier with a Decision Tree base estimator\n",
        "ovr_clf = OneVsRestClassifier(DecisionTreeClassifier(random_state=42))\n",
        "\n",
        "# Train the One-vs-Rest Classifier\n",
        "ovr_clf.fit(X_train, y_train)\n",
        "\n",
        "# Predict the response for test dataset\n",
        "y_pred_ovr = ovr_clf.predict(X_test)\n",
        "\n",
        "# Model Accuracy, how often is the classifier correct?\n",
        "accuracy_ovr = accuracy_score(y_test, y_pred_ovr)\n",
        "print(\"Accuracy (One-vs-Rest Decision Tree):\", accuracy_ovr)\n",
        "\n",
        "# You can also examine the individual classifiers trained for each class\n",
        "print(\"\\nNumber of estimators in One-vs-Rest Classifier:\", len(ovr_clf.estimators_))\n",
        "# For a dataset with 3 classes like Iris, there will be 3 base estimators."
      ],
      "metadata": {
        "colab": {
          "base_uri": "https://localhost:8080/"
        },
        "id": "B2AR8l1qGbAT",
        "outputId": "e869f6eb-0a64-495f-c517-e61d7bfc8427"
      },
      "execution_count": 11,
      "outputs": [
        {
          "output_type": "stream",
          "name": "stdout",
          "text": [
            "Accuracy (One-vs-Rest Decision Tree): 1.0\n",
            "\n",
            "Number of estimators in One-vs-Rest Classifier: 3\n"
          ]
        }
      ]
    },
    {
      "cell_type": "code",
      "source": [
        "25. #Write a Python program to train a Decision Tree Classifier and display the feature importance scores\n",
        "\n",
        "# Get feature importances\n",
        "feature_importances = clf.feature_importances_\n",
        "\n",
        "# Print the feature importances\n",
        "print(\"Feature Importance Scores:\")\n",
        "for feature, importance in zip(iris.feature_names, feature_importances):\n",
        "    print(f\"{feature}: {importance:.4f}\")"
      ],
      "metadata": {
        "colab": {
          "base_uri": "https://localhost:8080/"
        },
        "id": "Vv03h9KfGnRR",
        "outputId": "ec368822-bd78-4775-e197-448170306a41"
      },
      "execution_count": 12,
      "outputs": [
        {
          "output_type": "stream",
          "name": "stdout",
          "text": [
            "Feature Importance Scores:\n",
            "sepal length (cm): 0.0191\n",
            "sepal width (cm): 0.0191\n",
            "petal length (cm): 0.4045\n",
            "petal width (cm): 0.5573\n"
          ]
        }
      ]
    },
    {
      "cell_type": "code",
      "source": [
        "26. #Write a Python program to train a Decision Tree Regressor with max_depth=5 and compare its performance\n",
        "# with an unrestricted tree\n",
        "\n",
        "#Write a Python program to train a Decision Tree Regressor with max_depth=5 and compare its performance\n",
        "#with an unrestricted tree\n",
        "\n",
        "# Train a Decision Tree Regressor with max_depth=5\n",
        "regressor_limited_depth = DecisionTreeRegressor(max_depth=5, random_state=42)\n",
        "regressor_limited_depth.fit(X_train_reg, y_train_reg)\n",
        "y_pred_limited_depth_reg = regressor_limited_depth.predict(X_test_reg)\n",
        "mse_limited_depth = mean_squared_error(y_test_reg, y_pred_limited_depth_reg)\n",
        "print(\"Mean Squared Error (Max Depth 5):\", mse_limited_depth)\n",
        "\n",
        "# Train an unrestricted Decision Tree Regressor (default max_depth=None)\n",
        "regressor_full_depth = DecisionTreeRegressor(random_state=42)\n",
        "regressor_full_depth.fit(X_train_reg, y_train_reg)\n",
        "y_pred_full_depth_reg = regressor_full_depth.predict(X_test_reg)\n",
        "mse_full_depth = mean_squared_error(y_test_reg, y_pred_full_depth_reg)\n",
        "print(\"Mean Squared Error (Unrestricted Tree):\", mse_full_depth)\n",
        "\n",
        "# Compare the performance (lower MSE is better)\n",
        "print(\"\\nComparison:\")\n",
        "print(f\"MSE with max_depth=5: {mse_limited_depth:.4f}\")\n",
        "print(f\"MSE with unrestricted tree: {mse_full_depth:.4f}\")\n",
        "\n",
        "if mse_full_depth < mse_limited_depth:\n",
        "    print(\"The unrestricted tree has a lower MSE on the test set (better performance).\")\n",
        "elif mse_limited_depth < mse_full_depth:\n",
        "    print(\"The tree with max_depth=5 has a lower MSE on the test set (better performance).\")\n",
        "else:\n",
        "    print(\"Both trees have the same MSE on the test set.\")\n",
        "\n",
        "print(\"\\nObservation:\")\n",
        "print(\"An unrestricted Decision Tree Regressor is prone to overfitting the training data,\")\n",
        "print(\"leading to potentially lower performance on unseen data compared to a tree with limited depth.\")\n",
        "print(\"The tree with max_depth=5 acts as a form of pre-pruning, which can help prevent overfitting.\")\n",
        "print(\"In this specific case, you can see which model performed better based on the MSE values.\")"
      ],
      "metadata": {
        "colab": {
          "base_uri": "https://localhost:8080/"
        },
        "id": "VxGYdWcEGzQ8",
        "outputId": "9a2782a5-943d-495a-eaa7-db86655cfd27"
      },
      "execution_count": 13,
      "outputs": [
        {
          "output_type": "stream",
          "name": "stdout",
          "text": [
            "Mean Squared Error (Max Depth 5): 0.5210801561811793\n",
            "Mean Squared Error (Unrestricted Tree): 0.5280096503174904\n",
            "\n",
            "Comparison:\n",
            "MSE with max_depth=5: 0.5211\n",
            "MSE with unrestricted tree: 0.5280\n",
            "The tree with max_depth=5 has a lower MSE on the test set (better performance).\n",
            "\n",
            "Observation:\n",
            "An unrestricted Decision Tree Regressor is prone to overfitting the training data,\n",
            "leading to potentially lower performance on unseen data compared to a tree with limited depth.\n",
            "The tree with max_depth=5 acts as a form of pre-pruning, which can help prevent overfitting.\n",
            "In this specific case, you can see which model performed better based on the MSE values.\n"
          ]
        }
      ]
    },
    {
      "cell_type": "code",
      "source": [
        "27.  #Write a Python program to train a Decision Tree Classifier, apply Cost Complexity Pruning (CCP), and\n",
        "# visualize its effect on accuracy\n",
        "\n",
        "import matplotlib.pyplot as plt\n",
        "from sklearn.tree import plot_tree\n",
        "\n",
        "# Train a Decision Tree Classifier on the Iris dataset\n",
        "clf = DecisionTreeClassifier(random_state=42)\n",
        "clf.fit(X_train, y_train)\n",
        "\n",
        "# Calculate the cost complexity pruning paths\n",
        "path = clf.cost_complexity_pruning_path(X_train, y_train)\n",
        "ccp_alphas, impurities = path.ccp_alphas, path.impurities\n",
        "\n",
        "# Store the accuracy for each alpha\n",
        "clfs = []\n",
        "for ccp_alpha in ccp_alphas:\n",
        "    clf_pruned = DecisionTreeClassifier(random_state=42, ccp_alpha=ccp_alpha)\n",
        "    clf_pruned.fit(X_train, y_train)\n",
        "    clfs.append(clf_pruned)\n",
        "\n",
        "# Remove the last element because it is the trivial tree with only one node\n",
        "clfs = clfs[:-1]\n",
        "ccp_alphas = ccp_alphas[:-1]\n",
        "\n",
        "# Calculate accuracy on the test set for each pruned tree\n",
        "test_scores = [clf.score(X_test, y_test) for clf in clfs]\n",
        "\n",
        "# Visualize the effect of ccp_alpha on accuracy\n",
        "fig, ax = plt.subplots(figsize=(10, 6))\n",
        "ax.plot(ccp_alphas, test_scores, marker='o', drawstyle=\"steps-post\")\n",
        "ax.set_xlabel(\"effective alpha\")\n",
        "ax.set_ylabel(\"accuracy on test set\")\n",
        "ax.set_title(\"Accuracy vs. effective alpha for training and test sets\")\n",
        "plt.show()\n",
        "\n",
        "# Find the best alpha based on test accuracy\n",
        "best_alpha_index = test_scores.index(max(test_scores))\n",
        "best_alpha = ccp_alphas[best_alpha_index]\n",
        "print(f\"\\nOptimal ccp_alpha based on test accuracy: {best_alpha:.4f}\")\n",
        "\n",
        "# Train the final model with the optimal alpha\n",
        "final_clf = DecisionTreeClassifier(random_state=42, ccp_alpha=best_alpha)\n",
        "final_clf.fit(X_train, y_train)\n",
        "final_accuracy = accuracy_score(y_test, final_clf.predict(X_test))\n",
        "print(f\"Accuracy of the pruned tree with optimal alpha: {final_accuracy:.4f}\")\n",
        "\n",
        "# Compare with the accuracy of the unpruned tree\n",
        "unpruned_accuracy = accuracy_score(y_test, clf.predict(X_test))\n",
        "print(f\"Accuracy of the unpruned tree: {unpruned_accuracy:.4f}\")\n",
        "\n",
        "# Visualize the unpruned tree (optional, can be large)\n",
        "# plt.figure(figsize=(12, 8))\n",
        "# plot_tree(clf, filled=True, feature_names=iris.feature_names, class_names=iris.target_names)\n",
        "# plt.title(\"Unpruned Decision Tree\")\n",
        "# plt.show()\n",
        "\n",
        "# Visualize the pruned tree (optional, will be smaller)\n",
        "# plt.figure(figsize=(12, 8))\n",
        "# plot_tree(final_clf, filled=True, feature_names=iris.feature_names, class_names=iris.target_names)\n",
        "# plt.title(f\"Pruned Decision Tree (ccp_alpha={best_alpha:.4f})\")\n",
        "# plt.show()\n",
        "\n",
        "print(\"\\nEffect of Cost Complexity Pruning:\")\n",
        "print(\"Cost Complexity Pruning aims to find a balance between the complexity of the tree (number of nodes)\")\n",
        "print(\"and its ability to generalize to unseen data. It does this by adding a penalty term (ccp_alpha)\")\n",
        "print(\"to the impurity measure during the pruning process.\")\n",
        "print(\"Higher values of ccp_alpha result in more pruning (simpler trees).\")\n",
        "print(\"By plotting the accuracy on the test set against different alpha values, we can identify the alpha\")\n",
        "print(\"that yields the best performance on unseen data, which helps in selecting the right level of pruning.\")\n",
        "print(\"In this example, we can see how the test accuracy changes as the tree is progressively pruned.\")\n",
        "print(\"The optimal alpha corresponds to the point where the test accuracy is maximized.\")"
      ],
      "metadata": {
        "colab": {
          "base_uri": "https://localhost:8080/",
          "height": 818
        },
        "id": "cFq2z5PhHAXP",
        "outputId": "d26b3a77-4fcd-4815-bb1f-a42a314c5d86"
      },
      "execution_count": 14,
      "outputs": [
        {
          "output_type": "display_data",
          "data": {
            "text/plain": [
              "<Figure size 1000x600 with 1 Axes>"
            ],
            "image/png": "[encoded data removed]"
          },
          "metadata": {}
        },
        {
          "output_type": "stream",
          "name": "stdout",
          "text": [
            "\n",
            "Optimal ccp_alpha based on test accuracy: 0.0000\n",
            "Accuracy of the pruned tree with optimal alpha: 1.0000\n",
            "Accuracy of the unpruned tree: 1.0000\n",
            "\n",
            "Effect of Cost Complexity Pruning:\n",
            "Cost Complexity Pruning aims to find a balance between the complexity of the tree (number of nodes)\n",
            "and its ability to generalize to unseen data. It does this by adding a penalty term (ccp_alpha)\n",
            "to the impurity measure during the pruning process.\n",
            "Higher values of ccp_alpha result in more pruning (simpler trees).\n",
            "By plotting the accuracy on the test set against different alpha values, we can identify the alpha\n",
            "that yields the best performance on unseen data, which helps in selecting the right level of pruning.\n",
            "In this example, we can see how the test accuracy changes as the tree is progressively pruned.\n",
            "The optimal alpha corresponds to the point where the test accuracy is maximized.\n"
          ]
        }
      ]
    },
    {
      "cell_type": "code",
      "source": [
        "28. #Write a Python program to train a Decision Tree Classifier and evaluate its performance using Precision,\n",
        "# Recall, and F1-Score\n",
        "\n",
        "from sklearn.metrics import precision_score, recall_score, f1_score\n",
        "\n",
        "# Train the Decision Tree Classifier (using the clf trained previously)\n",
        "# clf = DecisionTreeClassifier(random_state=42)\n",
        "# clf.fit(X_train, y_train) # assuming X_train, y_train are already defined\n",
        "\n",
        "# Predict the response for test dataset\n",
        "y_pred = clf.predict(X_test)\n",
        "\n",
        "# Evaluate the model performance\n",
        "precision = precision_score(y_test, y_pred, average='weighted') # Use 'weighted' for multiclass\n",
        "recall = recall_score(y_test, y_pred, average='weighted')     # Use 'weighted' for multiclass\n",
        "f1 = f1_score(y_test, y_pred, average='weighted')           # Use 'weighted' for multiclass\n",
        "\n",
        "print(\"Model Performance Evaluation:\")\n",
        "print(\"Precision:\", precision)\n",
        "print(\"Recall:\", recall)\n",
        "print(\"F1-Score:\", f1)"
      ],
      "metadata": {
        "colab": {
          "base_uri": "https://localhost:8080/"
        },
        "id": "K2_nnrHgHPH_",
        "outputId": "b32ca8d3-f459-48a5-dd58-cbe3ab8a42e7"
      },
      "execution_count": 15,
      "outputs": [
        {
          "output_type": "stream",
          "name": "stdout",
          "text": [
            "Model Performance Evaluation:\n",
            "Precision: 1.0\n",
            "Recall: 1.0\n",
            "F1-Score: 1.0\n"
          ]
        }
      ]
    },
    {
      "cell_type": "code",
      "source": [
        "29.   #Write a Python program to train a Decision Tree Classifier and visualize the confusion matrix using seaborn\n",
        "\n",
        "import seaborn as sns\n",
        "from sklearn.metrics import confusion_matrix\n",
        "\n",
        "# Assuming the Decision Tree Classifier 'clf' has been trained previously\n",
        "# and 'X_test', 'y_test', and 'y_pred' are available.\n",
        "\n",
        "# Calculate the confusion matrix\n",
        "cm = confusion_matrix(y_test, y_pred)\n",
        "\n",
        "# Visualize the confusion matrix using seaborn\n",
        "plt.figure(figsize=(8, 6))\n",
        "sns.heatmap(cm, annot=True, fmt='d', cmap='Blues', xticklabels=iris.target_names, yticklabels=iris.target_names)\n",
        "plt.title('Confusion Matrix')\n",
        "plt.xlabel('Predicted Label')\n",
        "plt.ylabel('True Label')\n",
        "plt.show()\n",
        "\n",
        "print(\"\\nExplanation of the Confusion Matrix:\")\n",
        "print(\"- Each row represents the instances in an actual class.\")\n",
        "print(\"- Each column represents the instances in a predicted class.\")\n",
        "print(\"- The diagonal elements show the number of correctly classified instances for each class.\")\n",
        "print(\"- Off-diagonal elements show the number of misclassified instances.\")\n",
        "print(\"- For example, the value in row i and column j indicates the number of instances that are actually from class i but were predicted as class j.\")\n",
        "print(\"\\nA good classifier will have high values on the diagonal and low values off the diagonal.\")\n"
      ],
      "metadata": {
        "colab": {
          "base_uri": "https://localhost:8080/",
          "height": 727
        },
        "id": "VdkMxiryHcWI",
        "outputId": "1098bf09-3bc6-4f78-eaed-a562f7c3b39f"
      },
      "execution_count": 16,
      "outputs": [
        {
          "output_type": "display_data",
          "data": {
            "text/plain": [
              "<Figure size 800x600 with 2 Axes>"
            ],
            "image/png": "[encoded data removed]"
          },
          "metadata": {}
        },
        {
          "output_type": "stream",
          "name": "stdout",
          "text": [
            "\n",
            "Explanation of the Confusion Matrix:\n",
            "- Each row represents the instances in an actual class.\n",
            "- Each column represents the instances in a predicted class.\n",
            "- The diagonal elements show the number of correctly classified instances for each class.\n",
            "- Off-diagonal elements show the number of misclassified instances.\n",
            "- For example, the value in row i and column j indicates the number of instances that are actually from class i but were predicted as class j.\n",
            "\n",
            "A good classifier will have high values on the diagonal and low values off the diagonal.\n"
          ]
        }
      ]
    },
    {
      "cell_type": "code",
      "source": [
        "30.  # Write a Python program to train a Decision Tree Classifier and use GridSearchCV to find the optimal values\n",
        "# for max_depth and min_samples_split\n",
        "\n",
        "from sklearn.model_selection import GridSearchCV\n",
        "\n",
        "# Define the parameter grid to search\n",
        "param_grid = {\n",
        "    'max_depth': [None, 3, 5, 10], # Including None (no limit) and various depths\n",
        "    'min_samples_split': [2, 5, 10] # Various minimum samples split values\n",
        "}\n",
        "\n",
        "# Create a Decision Tree Classifier object\n",
        "dt_clf = DecisionTreeClassifier(random_state=42)\n",
        "\n",
        "# Create GridSearchCV object\n",
        "# cv=5 means 5-fold cross-validation\n",
        "grid_search = GridSearchCV(dt_clf, param_grid, cv=5, scoring='accuracy')\n",
        "\n",
        "# Fit GridSearchCV to the training data\n",
        "grid_search.fit(X_train, y_train)\n",
        "\n",
        "# Print the best parameters found\n",
        "print(\"Best parameters:\", grid_search.best_params_)\n",
        "\n",
        "# Print the best accuracy score found during cross-validation\n",
        "print(\"Best cross-validation accuracy:\", grid_search.best_score_)\n",
        "\n",
        "# Get the best model\n",
        "best_dt_clf = grid_search.best_estimator_\n",
        "\n",
        "# Evaluate the best model on the test set\n",
        "y_pred_best = best_dt_clf.predict(X_test)\n",
        "test_accuracy = accuracy_score(y_test, y_pred_best)\n",
        "print(\"Test set accuracy with best parameters:\", test_accuracy)\n",
        "\n",
        "print(\"\\nExplanation of GridSearchCV:\")\n",
        "print(\"GridSearchCV systematically searches over a specified range of hyperparameter values (param_grid).\")\n",
        "print(\"For each combination of hyperparameters, it trains and evaluates the model using cross-validation (cv=5).\")\n",
        "print(\"It keeps track of the combination of hyperparameters that results in the best cross-validation score (best_score_).\")\n",
        "print(\"Finally, it refits the model on the entire training set using the best hyperparameters found (best_estimator_).\")\n",
        "print(\"This process helps in finding the optimal hyperparameters for the model that generalize well to unseen data,\")\n",
        "print(\"reducing the risk of overfitting that might occur from training on a single train-test split.\")\n",
        "print(\"In this case, we are finding the optimal max_depth and min_samples_split for the Decision Tree Classifier.\")"
      ],
      "metadata": {
        "colab": {
          "base_uri": "https://localhost:8080/"
        },
        "id": "DIpcfYplHpyP",
        "outputId": "29e65c3b-eb06-4824-9f38-92cfe824d23a"
      },
      "execution_count": 17,
      "outputs": [
        {
          "output_type": "stream",
          "name": "stdout",
          "text": [
            "Best parameters: {'max_depth': None, 'min_samples_split': 10}\n",
            "Best cross-validation accuracy: 0.9428571428571428\n",
            "Test set accuracy with best parameters: 1.0\n",
            "\n",
            "Explanation of GridSearchCV:\n",
            "GridSearchCV systematically searches over a specified range of hyperparameter values (param_grid).\n",
            "For each combination of hyperparameters, it trains and evaluates the model using cross-validation (cv=5).\n",
            "It keeps track of the combination of hyperparameters that results in the best cross-validation score (best_score_).\n",
            "Finally, it refits the model on the entire training set using the best hyperparameters found (best_estimator_).\n",
            "This process helps in finding the optimal hyperparameters for the model that generalize well to unseen data,\n",
            "reducing the risk of overfitting that might occur from training on a single train-test split.\n",
            "In this case, we are finding the optimal max_depth and min_samples_split for the Decision Tree Classifier.\n"
          ]
        }
      ]
    }
  ]
}